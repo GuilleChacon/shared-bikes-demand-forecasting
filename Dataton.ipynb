{
 "cells": [
  {
   "cell_type": "code",
   "execution_count": 194,
   "metadata": {
    "ExecuteTime": {
     "end_time": "2020-07-03T07:47:51.122020Z",
     "start_time": "2020-07-03T07:47:51.118061Z"
    }
   },
   "outputs": [],
   "source": [
    "import numpy as np\n",
    "import pandas as pd\n",
    "import seaborn as sns\n",
    "import matplotlib.pyplot as plt\n",
    "from datetime import datetime, timedelta"
   ]
  },
  {
   "cell_type": "markdown",
   "metadata": {},
   "source": [
    "# Load Data"
   ]
  },
  {
   "cell_type": "code",
   "execution_count": 352,
   "metadata": {
    "ExecuteTime": {
     "end_time": "2020-07-03T10:30:42.685791Z",
     "start_time": "2020-07-03T10:30:42.496500Z"
    }
   },
   "outputs": [],
   "source": [
    "train_main = pd.read_csv(\"train_main.csv\")\n",
    "test_main = pd.read_csv(\"test_main.csv\")\n",
    "train_weather = pd.read_csv(\"train_weather.csv\")\n",
    "test_weather = pd.read_csv(\"test_weather.csv\")\n",
    "holidays = pd.read_csv(\"holidays.csv\")\n",
    "sample_submission = pd.read_csv(\"sample_submission.csv\")"
   ]
  },
  {
   "cell_type": "markdown",
   "metadata": {},
   "source": [
    "# Data Engineering"
   ]
  },
  {
   "cell_type": "markdown",
   "metadata": {},
   "source": [
    "## Datetime spliting"
   ]
  },
  {
   "cell_type": "code",
   "execution_count": 377,
   "metadata": {
    "ExecuteTime": {
     "end_time": "2020-07-03T10:43:15.518663Z",
     "start_time": "2020-07-03T10:43:15.507694Z"
    }
   },
   "outputs": [],
   "source": [
    "from datetime import date, datetime\n",
    "\n",
    "def get_season(date_to_convert):\n",
    "    year = date_to_convert.year\n",
    "    seasons = [\n",
    "        (1, date(year, 12, 21), date(year, 12, 31)),\n",
    "        (2, date(year, 6, 21), date(year, 9, 20)),\n",
    "        (3, date(year, 9, 21), date(year, 12, 20)),\n",
    "        (4, date(year, 1, 1), date(year, 3, 20)),\n",
    "        (5, date(year, 3, 21), date(year, 6, 20))\n",
    "    ]\n",
    "    \n",
    "    for season in seasons:\n",
    "        if date_to_convert>=season[1] and date_to_convert<=season[2]:\n",
    "            return season[0]\n",
    "\n",
    "def Datetimesplit(df):\n",
    "        df[\"datetime\"] = df[\"datetime\"].map(\n",
    "    lambda d: datetime.strptime(str(d), \"%Y-%m-%d %H:%M:%S\"))\n",
    "        df[\"date\"] = df[\"datetime\"].dt.date\n",
    "        df[\"year\"] = df[\"datetime\"].dt.year\n",
    "        df[\"month\"] = df[\"datetime\"].dt.month\n",
    "        df[\"day\"] = df[\"datetime\"].dt.day\n",
    "        df[\"hour\"] = df[\"datetime\"].dt.hour\n",
    "        df[\"weekday\"] = df[\"datetime\"].dt.weekday\n",
    "        df[\"weekend\"] = df[\"weekday\"].map(lambda x: x>4)\n",
    "        df[\"season\"] = df[\"datetime\"].map(get_season)\n",
    "        return df\n",
    "\n"
   ]
  },
  {
   "cell_type": "code",
   "execution_count": 378,
   "metadata": {
    "ExecuteTime": {
     "end_time": "2020-07-03T10:43:16.559423Z",
     "start_time": "2020-07-03T10:43:16.173342Z"
    }
   },
   "outputs": [],
   "source": [
    "train_main = Datetimesplit(train_main)\n",
    "test_main = Datetimesplit(test_main)"
   ]
  },
  {
   "cell_type": "markdown",
   "metadata": {},
   "source": [
    "## Holiday matching"
   ]
  },
  {
   "cell_type": "code",
   "execution_count": 379,
   "metadata": {
    "ExecuteTime": {
     "end_time": "2020-07-03T10:43:17.695427Z",
     "start_time": "2020-07-03T10:43:17.667470Z"
    }
   },
   "outputs": [
    {
     "ename": "ValueError",
     "evalue": "time data '2018-01-01' does not match format '%Y-%m-%d %H:%M:%S'",
     "output_type": "error",
     "traceback": [
      "\u001b[1;31m---------------------------------------------------------------------------\u001b[0m",
      "\u001b[1;31mValueError\u001b[0m                                Traceback (most recent call last)",
      "\u001b[1;32m<ipython-input-379-c0167c166fd6>\u001b[0m in \u001b[0;36m<module>\u001b[1;34m\u001b[0m\n\u001b[1;32m----> 1\u001b[1;33m \u001b[0mholidays\u001b[0m\u001b[1;33m[\u001b[0m\u001b[1;34m\"date\"\u001b[0m\u001b[1;33m]\u001b[0m \u001b[1;33m=\u001b[0m \u001b[0mholidays\u001b[0m\u001b[1;33m[\u001b[0m\u001b[1;34m\"date\"\u001b[0m\u001b[1;33m]\u001b[0m\u001b[1;33m.\u001b[0m\u001b[0mmap\u001b[0m\u001b[1;33m(\u001b[0m\u001b[1;32mlambda\u001b[0m \u001b[0md\u001b[0m\u001b[1;33m:\u001b[0m \u001b[0mdatetime\u001b[0m\u001b[1;33m.\u001b[0m\u001b[0mstrptime\u001b[0m\u001b[1;33m(\u001b[0m\u001b[0mstr\u001b[0m\u001b[1;33m(\u001b[0m\u001b[0md\u001b[0m\u001b[1;33m)\u001b[0m\u001b[1;33m,\u001b[0m \u001b[1;34m\"%Y-%m-%d %H:%M:%S\"\u001b[0m\u001b[1;33m)\u001b[0m\u001b[1;33m)\u001b[0m\u001b[1;33m\u001b[0m\u001b[1;33m\u001b[0m\u001b[0m\n\u001b[0m\u001b[0;32m      2\u001b[0m \u001b[0mholidays\u001b[0m\u001b[1;33m[\u001b[0m\u001b[1;34m\"date2\"\u001b[0m\u001b[1;33m]\u001b[0m \u001b[1;33m=\u001b[0m \u001b[0mholidays\u001b[0m\u001b[1;33m[\u001b[0m\u001b[1;34m\"date\"\u001b[0m\u001b[1;33m]\u001b[0m\u001b[1;33m.\u001b[0m\u001b[0mdt\u001b[0m\u001b[1;33m.\u001b[0m\u001b[0mdate\u001b[0m\u001b[1;33m\u001b[0m\u001b[1;33m\u001b[0m\u001b[0m\n\u001b[0;32m      3\u001b[0m \u001b[0mholidaylist\u001b[0m \u001b[1;33m=\u001b[0m \u001b[0mlist\u001b[0m\u001b[1;33m(\u001b[0m\u001b[0mholidays\u001b[0m\u001b[1;33m[\u001b[0m\u001b[1;34m\"date2\"\u001b[0m\u001b[1;33m]\u001b[0m\u001b[1;33m)\u001b[0m\u001b[1;33m\u001b[0m\u001b[1;33m\u001b[0m\u001b[0m\n",
      "\u001b[1;32m~\\Anaconda3\\lib\\site-packages\\pandas\\core\\series.py\u001b[0m in \u001b[0;36mmap\u001b[1;34m(self, arg, na_action)\u001b[0m\n\u001b[0;32m   3826\u001b[0m         \u001b[0mdtype\u001b[0m\u001b[1;33m:\u001b[0m \u001b[0mobject\u001b[0m\u001b[1;33m\u001b[0m\u001b[1;33m\u001b[0m\u001b[0m\n\u001b[0;32m   3827\u001b[0m         \"\"\"\n\u001b[1;32m-> 3828\u001b[1;33m         \u001b[0mnew_values\u001b[0m \u001b[1;33m=\u001b[0m \u001b[0msuper\u001b[0m\u001b[1;33m(\u001b[0m\u001b[1;33m)\u001b[0m\u001b[1;33m.\u001b[0m\u001b[0m_map_values\u001b[0m\u001b[1;33m(\u001b[0m\u001b[0marg\u001b[0m\u001b[1;33m,\u001b[0m \u001b[0mna_action\u001b[0m\u001b[1;33m=\u001b[0m\u001b[0mna_action\u001b[0m\u001b[1;33m)\u001b[0m\u001b[1;33m\u001b[0m\u001b[1;33m\u001b[0m\u001b[0m\n\u001b[0m\u001b[0;32m   3829\u001b[0m         \u001b[1;32mreturn\u001b[0m \u001b[0mself\u001b[0m\u001b[1;33m.\u001b[0m\u001b[0m_constructor\u001b[0m\u001b[1;33m(\u001b[0m\u001b[0mnew_values\u001b[0m\u001b[1;33m,\u001b[0m \u001b[0mindex\u001b[0m\u001b[1;33m=\u001b[0m\u001b[0mself\u001b[0m\u001b[1;33m.\u001b[0m\u001b[0mindex\u001b[0m\u001b[1;33m)\u001b[0m\u001b[1;33m.\u001b[0m\u001b[0m__finalize__\u001b[0m\u001b[1;33m(\u001b[0m\u001b[0mself\u001b[0m\u001b[1;33m)\u001b[0m\u001b[1;33m\u001b[0m\u001b[1;33m\u001b[0m\u001b[0m\n\u001b[0;32m   3830\u001b[0m \u001b[1;33m\u001b[0m\u001b[0m\n",
      "\u001b[1;32m~\\Anaconda3\\lib\\site-packages\\pandas\\core\\base.py\u001b[0m in \u001b[0;36m_map_values\u001b[1;34m(self, mapper, na_action)\u001b[0m\n\u001b[0;32m   1298\u001b[0m \u001b[1;33m\u001b[0m\u001b[0m\n\u001b[0;32m   1299\u001b[0m         \u001b[1;31m# mapper is a function\u001b[0m\u001b[1;33m\u001b[0m\u001b[1;33m\u001b[0m\u001b[1;33m\u001b[0m\u001b[0m\n\u001b[1;32m-> 1300\u001b[1;33m         \u001b[0mnew_values\u001b[0m \u001b[1;33m=\u001b[0m \u001b[0mmap_f\u001b[0m\u001b[1;33m(\u001b[0m\u001b[0mvalues\u001b[0m\u001b[1;33m,\u001b[0m \u001b[0mmapper\u001b[0m\u001b[1;33m)\u001b[0m\u001b[1;33m\u001b[0m\u001b[1;33m\u001b[0m\u001b[0m\n\u001b[0m\u001b[0;32m   1301\u001b[0m \u001b[1;33m\u001b[0m\u001b[0m\n\u001b[0;32m   1302\u001b[0m         \u001b[1;32mreturn\u001b[0m \u001b[0mnew_values\u001b[0m\u001b[1;33m\u001b[0m\u001b[1;33m\u001b[0m\u001b[0m\n",
      "\u001b[1;32mpandas/_libs/lib.pyx\u001b[0m in \u001b[0;36mpandas._libs.lib.map_infer\u001b[1;34m()\u001b[0m\n",
      "\u001b[1;32m<ipython-input-379-c0167c166fd6>\u001b[0m in \u001b[0;36m<lambda>\u001b[1;34m(d)\u001b[0m\n\u001b[1;32m----> 1\u001b[1;33m \u001b[0mholidays\u001b[0m\u001b[1;33m[\u001b[0m\u001b[1;34m\"date\"\u001b[0m\u001b[1;33m]\u001b[0m \u001b[1;33m=\u001b[0m \u001b[0mholidays\u001b[0m\u001b[1;33m[\u001b[0m\u001b[1;34m\"date\"\u001b[0m\u001b[1;33m]\u001b[0m\u001b[1;33m.\u001b[0m\u001b[0mmap\u001b[0m\u001b[1;33m(\u001b[0m\u001b[1;32mlambda\u001b[0m \u001b[0md\u001b[0m\u001b[1;33m:\u001b[0m \u001b[0mdatetime\u001b[0m\u001b[1;33m.\u001b[0m\u001b[0mstrptime\u001b[0m\u001b[1;33m(\u001b[0m\u001b[0mstr\u001b[0m\u001b[1;33m(\u001b[0m\u001b[0md\u001b[0m\u001b[1;33m)\u001b[0m\u001b[1;33m,\u001b[0m \u001b[1;34m\"%Y-%m-%d %H:%M:%S\"\u001b[0m\u001b[1;33m)\u001b[0m\u001b[1;33m)\u001b[0m\u001b[1;33m\u001b[0m\u001b[1;33m\u001b[0m\u001b[0m\n\u001b[0m\u001b[0;32m      2\u001b[0m \u001b[0mholidays\u001b[0m\u001b[1;33m[\u001b[0m\u001b[1;34m\"date2\"\u001b[0m\u001b[1;33m]\u001b[0m \u001b[1;33m=\u001b[0m \u001b[0mholidays\u001b[0m\u001b[1;33m[\u001b[0m\u001b[1;34m\"date\"\u001b[0m\u001b[1;33m]\u001b[0m\u001b[1;33m.\u001b[0m\u001b[0mdt\u001b[0m\u001b[1;33m.\u001b[0m\u001b[0mdate\u001b[0m\u001b[1;33m\u001b[0m\u001b[1;33m\u001b[0m\u001b[0m\n\u001b[0;32m      3\u001b[0m \u001b[0mholidaylist\u001b[0m \u001b[1;33m=\u001b[0m \u001b[0mlist\u001b[0m\u001b[1;33m(\u001b[0m\u001b[0mholidays\u001b[0m\u001b[1;33m[\u001b[0m\u001b[1;34m\"date2\"\u001b[0m\u001b[1;33m]\u001b[0m\u001b[1;33m)\u001b[0m\u001b[1;33m\u001b[0m\u001b[1;33m\u001b[0m\u001b[0m\n",
      "\u001b[1;32m~\\Anaconda3\\lib\\_strptime.py\u001b[0m in \u001b[0;36m_strptime_datetime\u001b[1;34m(cls, data_string, format)\u001b[0m\n\u001b[0;32m    575\u001b[0m     \"\"\"Return a class cls instance based on the input string and the\n\u001b[0;32m    576\u001b[0m     format string.\"\"\"\n\u001b[1;32m--> 577\u001b[1;33m     \u001b[0mtt\u001b[0m\u001b[1;33m,\u001b[0m \u001b[0mfraction\u001b[0m\u001b[1;33m,\u001b[0m \u001b[0mgmtoff_fraction\u001b[0m \u001b[1;33m=\u001b[0m \u001b[0m_strptime\u001b[0m\u001b[1;33m(\u001b[0m\u001b[0mdata_string\u001b[0m\u001b[1;33m,\u001b[0m \u001b[0mformat\u001b[0m\u001b[1;33m)\u001b[0m\u001b[1;33m\u001b[0m\u001b[1;33m\u001b[0m\u001b[0m\n\u001b[0m\u001b[0;32m    578\u001b[0m     \u001b[0mtzname\u001b[0m\u001b[1;33m,\u001b[0m \u001b[0mgmtoff\u001b[0m \u001b[1;33m=\u001b[0m \u001b[0mtt\u001b[0m\u001b[1;33m[\u001b[0m\u001b[1;33m-\u001b[0m\u001b[1;36m2\u001b[0m\u001b[1;33m:\u001b[0m\u001b[1;33m]\u001b[0m\u001b[1;33m\u001b[0m\u001b[1;33m\u001b[0m\u001b[0m\n\u001b[0;32m    579\u001b[0m     \u001b[0margs\u001b[0m \u001b[1;33m=\u001b[0m \u001b[0mtt\u001b[0m\u001b[1;33m[\u001b[0m\u001b[1;33m:\u001b[0m\u001b[1;36m6\u001b[0m\u001b[1;33m]\u001b[0m \u001b[1;33m+\u001b[0m \u001b[1;33m(\u001b[0m\u001b[0mfraction\u001b[0m\u001b[1;33m,\u001b[0m\u001b[1;33m)\u001b[0m\u001b[1;33m\u001b[0m\u001b[1;33m\u001b[0m\u001b[0m\n",
      "\u001b[1;32m~\\Anaconda3\\lib\\_strptime.py\u001b[0m in \u001b[0;36m_strptime\u001b[1;34m(data_string, format)\u001b[0m\n\u001b[0;32m    357\u001b[0m     \u001b[1;32mif\u001b[0m \u001b[1;32mnot\u001b[0m \u001b[0mfound\u001b[0m\u001b[1;33m:\u001b[0m\u001b[1;33m\u001b[0m\u001b[1;33m\u001b[0m\u001b[0m\n\u001b[0;32m    358\u001b[0m         raise ValueError(\"time data %r does not match format %r\" %\n\u001b[1;32m--> 359\u001b[1;33m                          (data_string, format))\n\u001b[0m\u001b[0;32m    360\u001b[0m     \u001b[1;32mif\u001b[0m \u001b[0mlen\u001b[0m\u001b[1;33m(\u001b[0m\u001b[0mdata_string\u001b[0m\u001b[1;33m)\u001b[0m \u001b[1;33m!=\u001b[0m \u001b[0mfound\u001b[0m\u001b[1;33m.\u001b[0m\u001b[0mend\u001b[0m\u001b[1;33m(\u001b[0m\u001b[1;33m)\u001b[0m\u001b[1;33m:\u001b[0m\u001b[1;33m\u001b[0m\u001b[1;33m\u001b[0m\u001b[0m\n\u001b[0;32m    361\u001b[0m         raise ValueError(\"unconverted data remains: %s\" %\n",
      "\u001b[1;31mValueError\u001b[0m: time data '2018-01-01' does not match format '%Y-%m-%d %H:%M:%S'"
     ]
    }
   ],
   "source": [
    "holidays[\"date\"] = holidays[\"date\"].map(lambda d: datetime.strptime(str(d), \"%Y-%m-%d %H:%M:%S\"))\n",
    "holidays[\"date2\"] = holidays[\"date\"].dt.date\n",
    "holidaylist = list(holidays[\"date2\"])"
   ]
  },
  {
   "cell_type": "code",
   "execution_count": 380,
   "metadata": {
    "ExecuteTime": {
     "end_time": "2020-07-03T10:43:18.095134Z",
     "start_time": "2020-07-03T10:43:18.090147Z"
    }
   },
   "outputs": [],
   "source": [
    "train_main['Holiday'] = train_main['date'].isin(holidaylist)\n",
    "test_main['Holiday'] = test_main['date'].isin(holidaylist)"
   ]
  },
  {
   "cell_type": "code",
   "execution_count": 381,
   "metadata": {
    "ExecuteTime": {
     "end_time": "2020-07-03T10:43:18.724049Z",
     "start_time": "2020-07-03T10:43:18.716070Z"
    }
   },
   "outputs": [
    {
     "data": {
      "text/plain": [
       "False    13416\n",
       "True       312\n",
       "Name: Holiday, dtype: int64"
      ]
     },
     "execution_count": 381,
     "metadata": {},
     "output_type": "execute_result"
    }
   ],
   "source": [
    "train_main[\"Holiday\"].value_counts()"
   ]
  },
  {
   "cell_type": "markdown",
   "metadata": {},
   "source": [
    "## Merging weather"
   ]
  },
  {
   "cell_type": "code",
   "execution_count": 382,
   "metadata": {
    "ExecuteTime": {
     "end_time": "2020-07-03T10:43:20.594211Z",
     "start_time": "2020-07-03T10:43:20.572236Z"
    }
   },
   "outputs": [],
   "source": [
    "train = pd.merge(train_main, train_weather, left_on=['id'], right_on=['id'])\n"
   ]
  },
  {
   "cell_type": "code",
   "execution_count": 383,
   "metadata": {
    "ExecuteTime": {
     "end_time": "2020-07-03T10:43:20.875440Z",
     "start_time": "2020-07-03T10:43:20.862459Z"
    }
   },
   "outputs": [],
   "source": [
    "test = pd.merge(test_main, test_weather, left_on=['id'], right_on=['id'])"
   ]
  },
  {
   "cell_type": "code",
   "execution_count": 384,
   "metadata": {
    "ExecuteTime": {
     "end_time": "2020-07-03T10:43:21.110445Z",
     "start_time": "2020-07-03T10:43:21.097458Z"
    }
   },
   "outputs": [],
   "source": [
    "target = train[\"countRents\"]\n",
    "train = train.drop([\"countRents\"],axis = 1)\n"
   ]
  },
  {
   "cell_type": "code",
   "execution_count": 385,
   "metadata": {
    "ExecuteTime": {
     "end_time": "2020-07-03T10:43:21.336808Z",
     "start_time": "2020-07-03T10:43:21.323769Z"
    }
   },
   "outputs": [],
   "source": [
    "train = train.fillna(0)\n",
    "test = test.fillna(0)"
   ]
  },
  {
   "cell_type": "markdown",
   "metadata": {},
   "source": [
    "## Categorical"
   ]
  },
  {
   "cell_type": "code",
   "execution_count": 386,
   "metadata": {
    "ExecuteTime": {
     "end_time": "2020-07-03T10:43:22.728197Z",
     "start_time": "2020-07-03T10:43:22.721217Z"
    },
    "scrolled": false
   },
   "outputs": [
    {
     "data": {
      "text/plain": [
       "id                                  int64\n",
       "town                               object\n",
       "datetime                   datetime64[ns]\n",
       "date                               object\n",
       "year                                int64\n",
       "month                               int64\n",
       "day                                 int64\n",
       "hour                                int64\n",
       "weekday                             int64\n",
       "weekend                              bool\n",
       "season                              int64\n",
       "Holiday                              bool\n",
       "wea_summary                        object\n",
       "wea_icon                           object\n",
       "wea_precipIntensity               float64\n",
       "wea_precipProbability             float64\n",
       "wea_temperature                   float64\n",
       "wea_apparentTemperature           float64\n",
       "wea_dewPoint                      float64\n",
       "wea_humidity                      float64\n",
       "wea_windSpeed                     float64\n",
       "wea_windGust                      float64\n",
       "wea_windBearing                   float64\n",
       "wea_cloudCover                    float64\n",
       "wea_uvIndex                       float64\n",
       "wea_visibility                    float64\n",
       "wea_precipType                     object\n",
       "wea_pressure                      float64\n",
       "wea_precipAccumulation            float64\n",
       "wea_ozone                         float64\n",
       "dtype: object"
      ]
     },
     "execution_count": 386,
     "metadata": {},
     "output_type": "execute_result"
    }
   ],
   "source": [
    "train.dtypes"
   ]
  },
  {
   "cell_type": "code",
   "execution_count": 387,
   "metadata": {
    "ExecuteTime": {
     "end_time": "2020-07-03T10:43:23.175161Z",
     "start_time": "2020-07-03T10:43:23.153219Z"
    }
   },
   "outputs": [],
   "source": [
    "fulldata = pd.concat([train, test], axis = 0)\n",
    "fulldata = fulldata.drop([\"id\",\"town\",\"datetime\",\"date\"],axis = 1)\n"
   ]
  },
  {
   "cell_type": "code",
   "execution_count": 388,
   "metadata": {
    "ExecuteTime": {
     "end_time": "2020-07-03T10:43:23.657348Z",
     "start_time": "2020-07-03T10:43:23.640394Z"
    }
   },
   "outputs": [],
   "source": [
    "fulldata = pd.get_dummies(fulldata, columns=[\"wea_summary\",\"wea_icon\",\"wea_precipType\"])"
   ]
  },
  {
   "cell_type": "code",
   "execution_count": 389,
   "metadata": {
    "ExecuteTime": {
     "end_time": "2020-07-03T10:43:24.045869Z",
     "start_time": "2020-07-03T10:43:24.031936Z"
    }
   },
   "outputs": [],
   "source": [
    "categoryVariableList = [\"year\",\"hour\",\"weekday\",\"day\",\"month\",\"season\"]\n",
    "for var in categoryVariableList:\n",
    "    fulldata[var] = fulldata[var].astype(\"category\")"
   ]
  },
  {
   "cell_type": "markdown",
   "metadata": {},
   "source": [
    "## fillna"
   ]
  },
  {
   "cell_type": "code",
   "execution_count": 390,
   "metadata": {
    "ExecuteTime": {
     "end_time": "2020-07-03T10:43:29.729875Z",
     "start_time": "2020-07-03T10:43:24.928526Z"
    }
   },
   "outputs": [],
   "source": [
    "fulldata = fulldata.apply(lambda x: x.fillna(x.mean) if x.dtype.kind in 'biufc' else x.fillna(0),axis=1)"
   ]
  },
  {
   "cell_type": "code",
   "execution_count": 391,
   "metadata": {
    "ExecuteTime": {
     "end_time": "2020-07-03T10:43:29.943040Z",
     "start_time": "2020-07-03T10:43:29.935052Z"
    }
   },
   "outputs": [],
   "source": [
    "train_dummy = fulldata.iloc[0:13728]\n",
    "test_dummy = fulldata.iloc[13728:]"
   ]
  },
  {
   "cell_type": "markdown",
   "metadata": {},
   "source": [
    "# Training"
   ]
  },
  {
   "cell_type": "code",
   "execution_count": 392,
   "metadata": {
    "ExecuteTime": {
     "end_time": "2020-07-03T10:43:30.141097Z",
     "start_time": "2020-07-03T10:43:30.135112Z"
    }
   },
   "outputs": [],
   "source": [
    "def rmsle(y, y_,convertExp=True):\n",
    "    if convertExp:\n",
    "        y = np.exp(y),\n",
    "        y_ = np.exp(y_)\n",
    "    log1 = np.nan_to_num(np.array([np.log(v + 1) for v in y]))\n",
    "    log2 = np.nan_to_num(np.array([np.log(v + 1) for v in y_]))\n",
    "    calc = (log1 - log2) ** 2\n",
    "    return np.sqrt(np.mean(calc))"
   ]
  },
  {
   "cell_type": "markdown",
   "metadata": {
    "heading_collapsed": true
   },
   "source": [
    "## Random Forest"
   ]
  },
  {
   "cell_type": "code",
   "execution_count": 249,
   "metadata": {
    "ExecuteTime": {
     "end_time": "2020-07-03T08:08:09.125339Z",
     "start_time": "2020-07-03T08:07:52.190294Z"
    },
    "hidden": true
   },
   "outputs": [
    {
     "name": "stdout",
     "output_type": "stream",
     "text": [
      "RMSLE Value For Random Forest:  0.08164938350531474\n"
     ]
    }
   ],
   "source": [
    "from sklearn.ensemble import RandomForestRegressor\n",
    "\n",
    "rfModel = RandomForestRegressor(n_estimators=100,random_state=10)\n",
    "\n",
    "targetsLog = np.log1p(target)\n",
    "rfModel.fit(train_dummy,targetsLog)\n",
    "preds = rfModel.predict(X= train_dummy)\n",
    "\n",
    "print (\"RMSLE Value For Random Forest: \",rmsle(np.exp(targetsLog),np.exp(preds),False))"
   ]
  },
  {
   "cell_type": "markdown",
   "metadata": {
    "heading_collapsed": true
   },
   "source": [
    "## LGB"
   ]
  },
  {
   "cell_type": "code",
   "execution_count": 327,
   "metadata": {
    "ExecuteTime": {
     "end_time": "2020-07-03T09:00:21.988308Z",
     "start_time": "2020-07-03T09:00:21.983321Z"
    },
    "hidden": true
   },
   "outputs": [],
   "source": [
    "import lightgbm as lgb\n",
    "\n",
    "hyper_params = {\n",
    "    'task': 'train',\n",
    "    'boosting_type': 'gbdt',\n",
    "    'objective': 'regression',\n",
    "    'metric': ['l2', 'auc'],\n",
    "    'learning_rate': 0.005,\n",
    "    'feature_fraction': 0.9,\n",
    "    'bagging_fraction': 0.7,\n",
    "    'bagging_freq': 10,\n",
    "    'verbose': 0,\n",
    "    \"max_depth\": -1,\n",
    "    \"num_iterations\": 100000,\n",
    "    \"n_estimators\": 1000\n",
    "}"
   ]
  },
  {
   "cell_type": "code",
   "execution_count": 328,
   "metadata": {
    "ExecuteTime": {
     "end_time": "2020-07-03T09:00:23.506552Z",
     "start_time": "2020-07-03T09:00:23.491561Z"
    },
    "hidden": true
   },
   "outputs": [],
   "source": [
    "from sklearn.model_selection import train_test_split\n",
    "\n",
    "targetsLog = np.log1p(target)\n",
    "X_train, X_test, y_train, y_test = train_test_split(train_dummy, targetsLog, test_size=0.2, random_state=42)"
   ]
  },
  {
   "cell_type": "code",
   "execution_count": 331,
   "metadata": {
    "ExecuteTime": {
     "end_time": "2020-07-03T09:00:36.921305Z",
     "start_time": "2020-07-03T09:00:36.917318Z"
    },
    "hidden": true
   },
   "outputs": [],
   "source": [
    "lgbm = lgb.LGBMRegressor(**hyper_params)"
   ]
  },
  {
   "cell_type": "code",
   "execution_count": 335,
   "metadata": {
    "ExecuteTime": {
     "end_time": "2020-07-03T09:01:41.980460Z",
     "start_time": "2020-07-03T09:01:38.387073Z"
    },
    "hidden": true
   },
   "outputs": [
    {
     "name": "stdout",
     "output_type": "stream",
     "text": [
      "[1]\tvalid_0's l1: 1.14415\tvalid_0's l2: 1.88379\tvalid_0's auc: 1\n",
      "Training until validation scores don't improve for 1000 rounds\n",
      "[2]\tvalid_0's l1: 1.13904\tvalid_0's l2: 1.86722\tvalid_0's auc: 1\n",
      "[3]\tvalid_0's l1: 1.13397\tvalid_0's l2: 1.85083\tvalid_0's auc: 1\n",
      "[4]\tvalid_0's l1: 1.12891\tvalid_0's l2: 1.83459\tvalid_0's auc: 1\n",
      "[5]\tvalid_0's l1: 1.12388\tvalid_0's l2: 1.81863\tvalid_0's auc: 1\n",
      "[6]\tvalid_0's l1: 1.12113\tvalid_0's l2: 1.81069\tvalid_0's auc: 1\n",
      "[7]\tvalid_0's l1: 1.11614\tvalid_0's l2: 1.79496\tvalid_0's auc: 1\n",
      "[8]\tvalid_0's l1: 1.1112\tvalid_0's l2: 1.77943\tvalid_0's auc: 1\n",
      "[9]\tvalid_0's l1: 1.10836\tvalid_0's l2: 1.77126\tvalid_0's auc: 1\n",
      "[10]\tvalid_0's l1: 1.10548\tvalid_0's l2: 1.76316\tvalid_0's auc: 1\n",
      "[11]\tvalid_0's l1: 1.1006\tvalid_0's l2: 1.74793\tvalid_0's auc: 1\n",
      "[12]\tvalid_0's l1: 1.09579\tvalid_0's l2: 1.73294\tvalid_0's auc: 1\n",
      "[13]\tvalid_0's l1: 1.09296\tvalid_0's l2: 1.72502\tvalid_0's auc: 1\n",
      "[14]\tvalid_0's l1: 1.08816\tvalid_0's l2: 1.71011\tvalid_0's auc: 1\n",
      "[15]\tvalid_0's l1: 1.08338\tvalid_0's l2: 1.69539\tvalid_0's auc: 1\n",
      "[16]\tvalid_0's l1: 1.07864\tvalid_0's l2: 1.68082\tvalid_0's auc: 1\n",
      "[17]\tvalid_0's l1: 1.07391\tvalid_0's l2: 1.66641\tvalid_0's auc: 1\n",
      "[18]\tvalid_0's l1: 1.06921\tvalid_0's l2: 1.65215\tvalid_0's auc: 1\n",
      "[19]\tvalid_0's l1: 1.06454\tvalid_0's l2: 1.63802\tvalid_0's auc: 1\n",
      "[20]\tvalid_0's l1: 1.05989\tvalid_0's l2: 1.62403\tvalid_0's auc: 1\n",
      "[21]\tvalid_0's l1: 1.05541\tvalid_0's l2: 1.61017\tvalid_0's auc: 1\n",
      "[22]\tvalid_0's l1: 1.05279\tvalid_0's l2: 1.60302\tvalid_0's auc: 1\n",
      "[23]\tvalid_0's l1: 1.04836\tvalid_0's l2: 1.58939\tvalid_0's auc: 1\n",
      "[24]\tvalid_0's l1: 1.04394\tvalid_0's l2: 1.57587\tvalid_0's auc: 1\n",
      "[25]\tvalid_0's l1: 1.03951\tvalid_0's l2: 1.56279\tvalid_0's auc: 1\n",
      "[26]\tvalid_0's l1: 1.03515\tvalid_0's l2: 1.54956\tvalid_0's auc: 1\n",
      "[27]\tvalid_0's l1: 1.03078\tvalid_0's l2: 1.53645\tvalid_0's auc: 1\n",
      "[28]\tvalid_0's l1: 1.02646\tvalid_0's l2: 1.52345\tvalid_0's auc: 1\n",
      "[29]\tvalid_0's l1: 1.02215\tvalid_0's l2: 1.51059\tvalid_0's auc: 1\n",
      "[30]\tvalid_0's l1: 1.01785\tvalid_0's l2: 1.49787\tvalid_0's auc: 1\n",
      "[31]\tvalid_0's l1: 1.01532\tvalid_0's l2: 1.4912\tvalid_0's auc: 1\n",
      "[32]\tvalid_0's l1: 1.01085\tvalid_0's l2: 1.47846\tvalid_0's auc: 1\n",
      "[33]\tvalid_0's l1: 1.00644\tvalid_0's l2: 1.46595\tvalid_0's auc: 1\n",
      "[34]\tvalid_0's l1: 1.00202\tvalid_0's l2: 1.45346\tvalid_0's auc: 1\n",
      "[35]\tvalid_0's l1: 0.997628\tvalid_0's l2: 1.44113\tvalid_0's auc: 1\n",
      "[36]\tvalid_0's l1: 0.993248\tvalid_0's l2: 1.42889\tvalid_0's auc: 1\n",
      "[37]\tvalid_0's l1: 0.988934\tvalid_0's l2: 1.41687\tvalid_0's auc: 1\n",
      "[38]\tvalid_0's l1: 0.984616\tvalid_0's l2: 1.40489\tvalid_0's auc: 1\n",
      "[39]\tvalid_0's l1: 0.98032\tvalid_0's l2: 1.39302\tvalid_0's auc: 1\n",
      "[40]\tvalid_0's l1: 0.976039\tvalid_0's l2: 1.38127\tvalid_0's auc: 1\n",
      "[41]\tvalid_0's l1: 0.971888\tvalid_0's l2: 1.3698\tvalid_0's auc: 1\n",
      "[42]\tvalid_0's l1: 0.967758\tvalid_0's l2: 1.35845\tvalid_0's auc: 1\n",
      "[43]\tvalid_0's l1: 0.963673\tvalid_0's l2: 1.34723\tvalid_0's auc: 1\n",
      "[44]\tvalid_0's l1: 0.959587\tvalid_0's l2: 1.3361\tvalid_0's auc: 1\n",
      "[45]\tvalid_0's l1: 0.955535\tvalid_0's l2: 1.32507\tvalid_0's auc: 1\n",
      "[46]\tvalid_0's l1: 0.951489\tvalid_0's l2: 1.31412\tvalid_0's auc: 1\n",
      "[47]\tvalid_0's l1: 0.947497\tvalid_0's l2: 1.30331\tvalid_0's auc: 1\n",
      "[48]\tvalid_0's l1: 0.943518\tvalid_0's l2: 1.29262\tvalid_0's auc: 1\n",
      "[49]\tvalid_0's l1: 0.939556\tvalid_0's l2: 1.28204\tvalid_0's auc: 1\n",
      "[50]\tvalid_0's l1: 0.935609\tvalid_0's l2: 1.27152\tvalid_0's auc: 1\n",
      "[51]\tvalid_0's l1: 0.931614\tvalid_0's l2: 1.26093\tvalid_0's auc: 1\n",
      "[52]\tvalid_0's l1: 0.927638\tvalid_0's l2: 1.25038\tvalid_0's auc: 1\n",
      "[53]\tvalid_0's l1: 0.925351\tvalid_0's l2: 1.24486\tvalid_0's auc: 1\n",
      "[54]\tvalid_0's l1: 0.921395\tvalid_0's l2: 1.23453\tvalid_0's auc: 1\n",
      "[55]\tvalid_0's l1: 0.917476\tvalid_0's l2: 1.22425\tvalid_0's auc: 1\n",
      "[56]\tvalid_0's l1: 0.915236\tvalid_0's l2: 1.2189\tvalid_0's auc: 1\n",
      "[57]\tvalid_0's l1: 0.911347\tvalid_0's l2: 1.20879\tvalid_0's auc: 1\n",
      "[58]\tvalid_0's l1: 0.907447\tvalid_0's l2: 1.19874\tvalid_0's auc: 1\n",
      "[59]\tvalid_0's l1: 0.903605\tvalid_0's l2: 1.18881\tvalid_0's auc: 1\n",
      "[60]\tvalid_0's l1: 0.899771\tvalid_0's l2: 1.17895\tvalid_0's auc: 1\n",
      "[61]\tvalid_0's l1: 0.896151\tvalid_0's l2: 1.16969\tvalid_0's auc: 1\n",
      "[62]\tvalid_0's l1: 0.892523\tvalid_0's l2: 1.16026\tvalid_0's auc: 1\n",
      "[63]\tvalid_0's l1: 0.890615\tvalid_0's l2: 1.15578\tvalid_0's auc: 1\n",
      "[64]\tvalid_0's l1: 0.887027\tvalid_0's l2: 1.14653\tvalid_0's auc: 1\n",
      "[65]\tvalid_0's l1: 0.883444\tvalid_0's l2: 1.13733\tvalid_0's auc: 1\n",
      "[66]\tvalid_0's l1: 0.879885\tvalid_0's l2: 1.12825\tvalid_0's auc: 1\n",
      "[67]\tvalid_0's l1: 0.876371\tvalid_0's l2: 1.11957\tvalid_0's auc: 1\n",
      "[68]\tvalid_0's l1: 0.872841\tvalid_0's l2: 1.11062\tvalid_0's auc: 1\n",
      "[69]\tvalid_0's l1: 0.870732\tvalid_0's l2: 1.10585\tvalid_0's auc: 1\n",
      "[70]\tvalid_0's l1: 0.867247\tvalid_0's l2: 1.09708\tvalid_0's auc: 1\n",
      "[71]\tvalid_0's l1: 0.863606\tvalid_0's l2: 1.08805\tvalid_0's auc: 1\n",
      "[72]\tvalid_0's l1: 0.859998\tvalid_0's l2: 1.07915\tvalid_0's auc: 1\n",
      "[73]\tvalid_0's l1: 0.858095\tvalid_0's l2: 1.07485\tvalid_0's auc: 1\n",
      "[74]\tvalid_0's l1: 0.856045\tvalid_0's l2: 1.07027\tvalid_0's auc: 1\n",
      "[75]\tvalid_0's l1: 0.852441\tvalid_0's l2: 1.06147\tvalid_0's auc: 1\n",
      "[76]\tvalid_0's l1: 0.850447\tvalid_0's l2: 1.05704\tvalid_0's auc: 1\n",
      "[77]\tvalid_0's l1: 0.846942\tvalid_0's l2: 1.04849\tvalid_0's auc: 1\n",
      "[78]\tvalid_0's l1: 0.843462\tvalid_0's l2: 1.04005\tvalid_0's auc: 1\n",
      "[79]\tvalid_0's l1: 0.840012\tvalid_0's l2: 1.03171\tvalid_0's auc: 1\n",
      "[80]\tvalid_0's l1: 0.836517\tvalid_0's l2: 1.02335\tvalid_0's auc: 1\n",
      "[81]\tvalid_0's l1: 0.833115\tvalid_0's l2: 1.01524\tvalid_0's auc: 1\n",
      "[82]\tvalid_0's l1: 0.829753\tvalid_0's l2: 1.00716\tvalid_0's auc: 1\n",
      "[83]\tvalid_0's l1: 0.826424\tvalid_0's l2: 0.99923\tvalid_0's auc: 1\n",
      "[84]\tvalid_0's l1: 0.823094\tvalid_0's l2: 0.991323\tvalid_0's auc: 1\n",
      "[85]\tvalid_0's l1: 0.81978\tvalid_0's l2: 0.98348\tvalid_0's auc: 1\n",
      "[86]\tvalid_0's l1: 0.816489\tvalid_0's l2: 0.975701\tvalid_0's auc: 1\n",
      "[87]\tvalid_0's l1: 0.813209\tvalid_0's l2: 0.968071\tvalid_0's auc: 1\n",
      "[88]\tvalid_0's l1: 0.809948\tvalid_0's l2: 0.96047\tvalid_0's auc: 1\n",
      "[89]\tvalid_0's l1: 0.806702\tvalid_0's l2: 0.9529\tvalid_0's auc: 1\n",
      "[90]\tvalid_0's l1: 0.803474\tvalid_0's l2: 0.945447\tvalid_0's auc: 1\n",
      "[91]\tvalid_0's l1: 0.800172\tvalid_0's l2: 0.937899\tvalid_0's auc: 1\n",
      "[92]\tvalid_0's l1: 0.796899\tvalid_0's l2: 0.930451\tvalid_0's auc: 1\n",
      "[93]\tvalid_0's l1: 0.793634\tvalid_0's l2: 0.923071\tvalid_0's auc: 1\n",
      "[94]\tvalid_0's l1: 0.7904\tvalid_0's l2: 0.915755\tvalid_0's auc: 1\n",
      "[95]\tvalid_0's l1: 0.787176\tvalid_0's l2: 0.908519\tvalid_0's auc: 1\n",
      "[96]\tvalid_0's l1: 0.783965\tvalid_0's l2: 0.901337\tvalid_0's auc: 1\n",
      "[97]\tvalid_0's l1: 0.780804\tvalid_0's l2: 0.894316\tvalid_0's auc: 1\n",
      "[98]\tvalid_0's l1: 0.777638\tvalid_0's l2: 0.887281\tvalid_0's auc: 1\n",
      "[99]\tvalid_0's l1: 0.774489\tvalid_0's l2: 0.880314\tvalid_0's auc: 1\n",
      "[100]\tvalid_0's l1: 0.771329\tvalid_0's l2: 0.873594\tvalid_0's auc: 1\n",
      "[101]\tvalid_0's l1: 0.768267\tvalid_0's l2: 0.866833\tvalid_0's auc: 1\n",
      "[102]\tvalid_0's l1: 0.765229\tvalid_0's l2: 0.860139\tvalid_0's auc: 1\n",
      "[103]\tvalid_0's l1: 0.762199\tvalid_0's l2: 0.853504\tvalid_0's auc: 1\n",
      "[104]\tvalid_0's l1: 0.759205\tvalid_0's l2: 0.846981\tvalid_0's auc: 1\n",
      "[105]\tvalid_0's l1: 0.756217\tvalid_0's l2: 0.840474\tvalid_0's auc: 1\n",
      "[106]\tvalid_0's l1: 0.753241\tvalid_0's l2: 0.83404\tvalid_0's auc: 1\n",
      "[107]\tvalid_0's l1: 0.750381\tvalid_0's l2: 0.827878\tvalid_0's auc: 1\n",
      "[108]\tvalid_0's l1: 0.747456\tvalid_0's l2: 0.821591\tvalid_0's auc: 1\n",
      "[109]\tvalid_0's l1: 0.744545\tvalid_0's l2: 0.815365\tvalid_0's auc: 1\n",
      "[110]\tvalid_0's l1: 0.741638\tvalid_0's l2: 0.809173\tvalid_0's auc: 1\n",
      "[111]\tvalid_0's l1: 0.738754\tvalid_0's l2: 0.803013\tvalid_0's auc: 1\n",
      "[112]\tvalid_0's l1: 0.735811\tvalid_0's l2: 0.796789\tvalid_0's auc: 1\n",
      "[113]\tvalid_0's l1: 0.732875\tvalid_0's l2: 0.790613\tvalid_0's auc: 1\n",
      "[114]\tvalid_0's l1: 0.730054\tvalid_0's l2: 0.784636\tvalid_0's auc: 1\n",
      "[115]\tvalid_0's l1: 0.727166\tvalid_0's l2: 0.7786\tvalid_0's auc: 1\n",
      "[116]\tvalid_0's l1: 0.724283\tvalid_0's l2: 0.772606\tvalid_0's auc: 1\n",
      "[117]\tvalid_0's l1: 0.721398\tvalid_0's l2: 0.766752\tvalid_0's auc: 1\n",
      "[118]\tvalid_0's l1: 0.718629\tvalid_0's l2: 0.761015\tvalid_0's auc: 1\n",
      "[119]\tvalid_0's l1: 0.715879\tvalid_0's l2: 0.755351\tvalid_0's auc: 1\n",
      "[120]\tvalid_0's l1: 0.713125\tvalid_0's l2: 0.74971\tvalid_0's auc: 1\n",
      "[121]\tvalid_0's l1: 0.710349\tvalid_0's l2: 0.744078\tvalid_0's auc: 1\n",
      "[122]\tvalid_0's l1: 0.707606\tvalid_0's l2: 0.738494\tvalid_0's auc: 1\n",
      "[123]\tvalid_0's l1: 0.704862\tvalid_0's l2: 0.733015\tvalid_0's auc: 1\n",
      "[124]\tvalid_0's l1: 0.70216\tvalid_0's l2: 0.727576\tvalid_0's auc: 1\n",
      "[125]\tvalid_0's l1: 0.699468\tvalid_0's l2: 0.722186\tvalid_0's auc: 1\n",
      "[126]\tvalid_0's l1: 0.69676\tvalid_0's l2: 0.716854\tvalid_0's auc: 1\n",
      "[127]\tvalid_0's l1: 0.694024\tvalid_0's l2: 0.711408\tvalid_0's auc: 1\n",
      "[128]\tvalid_0's l1: 0.691348\tvalid_0's l2: 0.706141\tvalid_0's auc: 1\n",
      "[129]\tvalid_0's l1: 0.688714\tvalid_0's l2: 0.700924\tvalid_0's auc: 1\n",
      "[130]\tvalid_0's l1: 0.686096\tvalid_0's l2: 0.69575\tvalid_0's auc: 1\n",
      "[131]\tvalid_0's l1: 0.684602\tvalid_0's l2: 0.693081\tvalid_0's auc: 1\n",
      "[132]\tvalid_0's l1: 0.68315\tvalid_0's l2: 0.690482\tvalid_0's auc: 1\n",
      "[133]\tvalid_0's l1: 0.680553\tvalid_0's l2: 0.685451\tvalid_0's auc: 1\n",
      "[134]\tvalid_0's l1: 0.677971\tvalid_0's l2: 0.680458\tvalid_0's auc: 1\n",
      "[135]\tvalid_0's l1: 0.676658\tvalid_0's l2: 0.678131\tvalid_0's auc: 1\n",
      "[136]\tvalid_0's l1: 0.675314\tvalid_0's l2: 0.675789\tvalid_0's auc: 1\n",
      "[137]\tvalid_0's l1: 0.672756\tvalid_0's l2: 0.670885\tvalid_0's auc: 1\n",
      "[138]\tvalid_0's l1: 0.671342\tvalid_0's l2: 0.668411\tvalid_0's auc: 1\n",
      "[139]\tvalid_0's l1: 0.668781\tvalid_0's l2: 0.663538\tvalid_0's auc: 1\n",
      "[140]\tvalid_0's l1: 0.666259\tvalid_0's l2: 0.658752\tvalid_0's auc: 1\n",
      "[141]\tvalid_0's l1: 0.663742\tvalid_0's l2: 0.653997\tvalid_0's auc: 1\n",
      "[142]\tvalid_0's l1: 0.66124\tvalid_0's l2: 0.649291\tvalid_0's auc: 1\n",
      "[143]\tvalid_0's l1: 0.658755\tvalid_0's l2: 0.644624\tvalid_0's auc: 1\n",
      "[144]\tvalid_0's l1: 0.656257\tvalid_0's l2: 0.63997\tvalid_0's auc: 1\n",
      "[145]\tvalid_0's l1: 0.653801\tvalid_0's l2: 0.635393\tvalid_0's auc: 1\n",
      "[146]\tvalid_0's l1: 0.651335\tvalid_0's l2: 0.630828\tvalid_0's auc: 1\n",
      "[147]\tvalid_0's l1: 0.650079\tvalid_0's l2: 0.628692\tvalid_0's auc: 1\n",
      "[148]\tvalid_0's l1: 0.647636\tvalid_0's l2: 0.624188\tvalid_0's auc: 1\n",
      "[149]\tvalid_0's l1: 0.645244\tvalid_0's l2: 0.619767\tvalid_0's auc: 1\n",
      "[150]\tvalid_0's l1: 0.642851\tvalid_0's l2: 0.615392\tvalid_0's auc: 1\n",
      "[151]\tvalid_0's l1: 0.640416\tvalid_0's l2: 0.610888\tvalid_0's auc: 1\n",
      "[152]\tvalid_0's l1: 0.637953\tvalid_0's l2: 0.606443\tvalid_0's auc: 1\n",
      "[153]\tvalid_0's l1: 0.636573\tvalid_0's l2: 0.604159\tvalid_0's auc: 1\n",
      "[154]\tvalid_0's l1: 0.63417\tvalid_0's l2: 0.599763\tvalid_0's auc: 1\n",
      "[155]\tvalid_0's l1: 0.631779\tvalid_0's l2: 0.59541\tvalid_0's auc: 1\n",
      "[156]\tvalid_0's l1: 0.62948\tvalid_0's l2: 0.591216\tvalid_0's auc: 1\n",
      "[157]\tvalid_0's l1: 0.627083\tvalid_0's l2: 0.58694\tvalid_0's auc: 1\n",
      "[158]\tvalid_0's l1: 0.624702\tvalid_0's l2: 0.58272\tvalid_0's auc: 1\n",
      "[159]\tvalid_0's l1: 0.622334\tvalid_0's l2: 0.578511\tvalid_0's auc: 1\n",
      "[160]\tvalid_0's l1: 0.619981\tvalid_0's l2: 0.574372\tvalid_0's auc: 1\n",
      "[161]\tvalid_0's l1: 0.61775\tvalid_0's l2: 0.570457\tvalid_0's auc: 1\n",
      "[162]\tvalid_0's l1: 0.61549\tvalid_0's l2: 0.566583\tvalid_0's auc: 1\n",
      "[163]\tvalid_0's l1: 0.613247\tvalid_0's l2: 0.56274\tvalid_0's auc: 1\n",
      "[164]\tvalid_0's l1: 0.611021\tvalid_0's l2: 0.55896\tvalid_0's auc: 1\n",
      "[165]\tvalid_0's l1: 0.608808\tvalid_0's l2: 0.555221\tvalid_0's auc: 1\n",
      "[166]\tvalid_0's l1: 0.607563\tvalid_0's l2: 0.553261\tvalid_0's auc: 1\n",
      "[167]\tvalid_0's l1: 0.605359\tvalid_0's l2: 0.549555\tvalid_0's auc: 1\n"
     ]
    },
    {
     "name": "stdout",
     "output_type": "stream",
     "text": [
      "[168]\tvalid_0's l1: 0.60317\tvalid_0's l2: 0.545889\tvalid_0's auc: 1\n",
      "[169]\tvalid_0's l1: 0.600991\tvalid_0's l2: 0.542256\tvalid_0's auc: 1\n",
      "[170]\tvalid_0's l1: 0.598866\tvalid_0's l2: 0.538638\tvalid_0's auc: 1\n",
      "[171]\tvalid_0's l1: 0.596697\tvalid_0's l2: 0.534961\tvalid_0's auc: 1\n",
      "[172]\tvalid_0's l1: 0.594514\tvalid_0's l2: 0.531249\tvalid_0's auc: 1\n",
      "[173]\tvalid_0's l1: 0.592311\tvalid_0's l2: 0.527586\tvalid_0's auc: 1\n",
      "[174]\tvalid_0's l1: 0.59018\tvalid_0's l2: 0.524007\tvalid_0's auc: 1\n",
      "[175]\tvalid_0's l1: 0.588003\tvalid_0's l2: 0.520407\tvalid_0's auc: 1\n",
      "[176]\tvalid_0's l1: 0.585943\tvalid_0's l2: 0.516959\tvalid_0's auc: 1\n",
      "[177]\tvalid_0's l1: 0.583856\tvalid_0's l2: 0.513515\tvalid_0's auc: 1\n",
      "[178]\tvalid_0's l1: 0.581862\tvalid_0's l2: 0.510201\tvalid_0's auc: 1\n",
      "[179]\tvalid_0's l1: 0.579799\tvalid_0's l2: 0.506819\tvalid_0's auc: 1\n",
      "[180]\tvalid_0's l1: 0.577819\tvalid_0's l2: 0.503547\tvalid_0's auc: 1\n",
      "[181]\tvalid_0's l1: 0.575809\tvalid_0's l2: 0.500225\tvalid_0's auc: 1\n",
      "[182]\tvalid_0's l1: 0.573851\tvalid_0's l2: 0.49699\tvalid_0's auc: 1\n",
      "[183]\tvalid_0's l1: 0.571868\tvalid_0's l2: 0.493724\tvalid_0's auc: 1\n",
      "[184]\tvalid_0's l1: 0.56993\tvalid_0's l2: 0.490522\tvalid_0's auc: 1\n",
      "[185]\tvalid_0's l1: 0.567979\tvalid_0's l2: 0.487329\tvalid_0's auc: 1\n",
      "[186]\tvalid_0's l1: 0.566058\tvalid_0's l2: 0.484204\tvalid_0's auc: 1\n",
      "[187]\tvalid_0's l1: 0.564038\tvalid_0's l2: 0.48091\tvalid_0's auc: 1\n",
      "[188]\tvalid_0's l1: 0.562096\tvalid_0's l2: 0.477786\tvalid_0's auc: 1\n",
      "[189]\tvalid_0's l1: 0.560165\tvalid_0's l2: 0.474746\tvalid_0's auc: 1\n",
      "[190]\tvalid_0's l1: 0.558252\tvalid_0's l2: 0.471665\tvalid_0's auc: 1\n",
      "[191]\tvalid_0's l1: 0.556255\tvalid_0's l2: 0.468575\tvalid_0's auc: 1\n",
      "[192]\tvalid_0's l1: 0.55429\tvalid_0's l2: 0.46554\tvalid_0's auc: 1\n",
      "[193]\tvalid_0's l1: 0.55232\tvalid_0's l2: 0.462525\tvalid_0's auc: 1\n",
      "[194]\tvalid_0's l1: 0.550381\tvalid_0's l2: 0.459542\tvalid_0's auc: 1\n",
      "[195]\tvalid_0's l1: 0.548425\tvalid_0's l2: 0.456582\tvalid_0's auc: 1\n",
      "[196]\tvalid_0's l1: 0.546501\tvalid_0's l2: 0.453655\tvalid_0's auc: 1\n",
      "[197]\tvalid_0's l1: 0.544565\tvalid_0's l2: 0.450741\tvalid_0's auc: 1\n",
      "[198]\tvalid_0's l1: 0.542637\tvalid_0's l2: 0.44783\tvalid_0's auc: 1\n",
      "[199]\tvalid_0's l1: 0.540684\tvalid_0's l2: 0.444927\tvalid_0's auc: 1\n",
      "[200]\tvalid_0's l1: 0.538813\tvalid_0's l2: 0.442124\tvalid_0's auc: 1\n",
      "[201]\tvalid_0's l1: 0.536968\tvalid_0's l2: 0.439282\tvalid_0's auc: 1\n",
      "[202]\tvalid_0's l1: 0.535906\tvalid_0's l2: 0.437777\tvalid_0's auc: 1\n",
      "[203]\tvalid_0's l1: 0.534076\tvalid_0's l2: 0.434976\tvalid_0's auc: 1\n",
      "[204]\tvalid_0's l1: 0.532198\tvalid_0's l2: 0.432104\tvalid_0's auc: 1\n",
      "[205]\tvalid_0's l1: 0.530411\tvalid_0's l2: 0.429379\tvalid_0's auc: 1\n",
      "[206]\tvalid_0's l1: 0.528611\tvalid_0's l2: 0.426659\tvalid_0's auc: 1\n",
      "[207]\tvalid_0's l1: 0.526866\tvalid_0's l2: 0.42404\tvalid_0's auc: 1\n",
      "[208]\tvalid_0's l1: 0.525094\tvalid_0's l2: 0.421365\tvalid_0's auc: 1\n",
      "[209]\tvalid_0's l1: 0.523327\tvalid_0's l2: 0.418725\tvalid_0's auc: 1\n",
      "[210]\tvalid_0's l1: 0.521587\tvalid_0's l2: 0.416189\tvalid_0's auc: 1\n",
      "[211]\tvalid_0's l1: 0.519817\tvalid_0's l2: 0.413519\tvalid_0's auc: 1\n",
      "[212]\tvalid_0's l1: 0.518166\tvalid_0's l2: 0.411154\tvalid_0's auc: 1\n",
      "[213]\tvalid_0's l1: 0.516422\tvalid_0's l2: 0.408592\tvalid_0's auc: 1\n",
      "[214]\tvalid_0's l1: 0.514684\tvalid_0's l2: 0.406045\tvalid_0's auc: 1\n",
      "[215]\tvalid_0's l1: 0.51295\tvalid_0's l2: 0.403471\tvalid_0's auc: 1\n",
      "[216]\tvalid_0's l1: 0.5113\tvalid_0's l2: 0.401133\tvalid_0's auc: 1\n",
      "[217]\tvalid_0's l1: 0.509656\tvalid_0's l2: 0.398805\tvalid_0's auc: 1\n",
      "[218]\tvalid_0's l1: 0.507948\tvalid_0's l2: 0.396303\tvalid_0's auc: 1\n",
      "[219]\tvalid_0's l1: 0.506245\tvalid_0's l2: 0.393878\tvalid_0's auc: 1\n",
      "[220]\tvalid_0's l1: 0.504551\tvalid_0's l2: 0.391405\tvalid_0's auc: 1\n",
      "[221]\tvalid_0's l1: 0.502824\tvalid_0's l2: 0.389008\tvalid_0's auc: 1\n",
      "[222]\tvalid_0's l1: 0.501126\tvalid_0's l2: 0.386665\tvalid_0's auc: 1\n",
      "[223]\tvalid_0's l1: 0.49938\tvalid_0's l2: 0.384263\tvalid_0's auc: 1\n",
      "[224]\tvalid_0's l1: 0.497662\tvalid_0's l2: 0.381894\tvalid_0's auc: 1\n",
      "[225]\tvalid_0's l1: 0.495984\tvalid_0's l2: 0.379567\tvalid_0's auc: 1\n",
      "[226]\tvalid_0's l1: 0.494307\tvalid_0's l2: 0.377283\tvalid_0's auc: 1\n",
      "[227]\tvalid_0's l1: 0.492642\tvalid_0's l2: 0.375021\tvalid_0's auc: 1\n",
      "[228]\tvalid_0's l1: 0.490983\tvalid_0's l2: 0.372752\tvalid_0's auc: 1\n",
      "[229]\tvalid_0's l1: 0.489357\tvalid_0's l2: 0.370529\tvalid_0's auc: 1\n",
      "[230]\tvalid_0's l1: 0.487725\tvalid_0's l2: 0.368359\tvalid_0's auc: 1\n",
      "[231]\tvalid_0's l1: 0.486125\tvalid_0's l2: 0.366232\tvalid_0's auc: 1\n",
      "[232]\tvalid_0's l1: 0.484541\tvalid_0's l2: 0.364129\tvalid_0's auc: 1\n",
      "[233]\tvalid_0's l1: 0.482965\tvalid_0's l2: 0.362054\tvalid_0's auc: 1\n",
      "[234]\tvalid_0's l1: 0.481395\tvalid_0's l2: 0.359982\tvalid_0's auc: 1\n",
      "[235]\tvalid_0's l1: 0.479834\tvalid_0's l2: 0.357931\tvalid_0's auc: 1\n",
      "[236]\tvalid_0's l1: 0.478307\tvalid_0's l2: 0.35591\tvalid_0's auc: 1\n",
      "[237]\tvalid_0's l1: 0.476765\tvalid_0's l2: 0.353892\tvalid_0's auc: 1\n",
      "[238]\tvalid_0's l1: 0.475925\tvalid_0's l2: 0.352875\tvalid_0's auc: 1\n",
      "[239]\tvalid_0's l1: 0.474411\tvalid_0's l2: 0.350884\tvalid_0's auc: 1\n",
      "[240]\tvalid_0's l1: 0.472866\tvalid_0's l2: 0.34886\tvalid_0's auc: 1\n",
      "[241]\tvalid_0's l1: 0.47135\tvalid_0's l2: 0.346873\tvalid_0's auc: 1\n",
      "[242]\tvalid_0's l1: 0.469842\tvalid_0's l2: 0.344899\tvalid_0's auc: 1\n",
      "[243]\tvalid_0's l1: 0.468309\tvalid_0's l2: 0.342921\tvalid_0's auc: 1\n",
      "[244]\tvalid_0's l1: 0.466828\tvalid_0's l2: 0.340975\tvalid_0's auc: 1\n",
      "[245]\tvalid_0's l1: 0.465284\tvalid_0's l2: 0.338972\tvalid_0's auc: 1\n",
      "[246]\tvalid_0's l1: 0.463747\tvalid_0's l2: 0.336982\tvalid_0's auc: 1\n",
      "[247]\tvalid_0's l1: 0.462227\tvalid_0's l2: 0.335021\tvalid_0's auc: 1\n",
      "[248]\tvalid_0's l1: 0.460774\tvalid_0's l2: 0.333148\tvalid_0's auc: 1\n",
      "[249]\tvalid_0's l1: 0.459322\tvalid_0's l2: 0.331317\tvalid_0's auc: 1\n",
      "[250]\tvalid_0's l1: 0.457875\tvalid_0's l2: 0.329515\tvalid_0's auc: 1\n",
      "[251]\tvalid_0's l1: 0.456419\tvalid_0's l2: 0.327638\tvalid_0's auc: 1\n",
      "[252]\tvalid_0's l1: 0.454987\tvalid_0's l2: 0.325801\tvalid_0's auc: 1\n",
      "[253]\tvalid_0's l1: 0.453564\tvalid_0's l2: 0.323991\tvalid_0's auc: 1\n",
      "[254]\tvalid_0's l1: 0.452136\tvalid_0's l2: 0.32219\tvalid_0's auc: 1\n",
      "[255]\tvalid_0's l1: 0.450742\tvalid_0's l2: 0.320429\tvalid_0's auc: 1\n",
      "[256]\tvalid_0's l1: 0.449359\tvalid_0's l2: 0.318672\tvalid_0's auc: 1\n",
      "[257]\tvalid_0's l1: 0.447953\tvalid_0's l2: 0.316899\tvalid_0's auc: 1\n",
      "[258]\tvalid_0's l1: 0.446562\tvalid_0's l2: 0.315174\tvalid_0's auc: 1\n",
      "[259]\tvalid_0's l1: 0.445179\tvalid_0's l2: 0.313468\tvalid_0's auc: 1\n",
      "[260]\tvalid_0's l1: 0.444401\tvalid_0's l2: 0.312538\tvalid_0's auc: 1\n",
      "[261]\tvalid_0's l1: 0.443641\tvalid_0's l2: 0.311649\tvalid_0's auc: 1\n",
      "[262]\tvalid_0's l1: 0.442322\tvalid_0's l2: 0.310011\tvalid_0's auc: 1\n",
      "[263]\tvalid_0's l1: 0.441008\tvalid_0's l2: 0.308396\tvalid_0's auc: 1\n",
      "[264]\tvalid_0's l1: 0.439696\tvalid_0's l2: 0.30679\tvalid_0's auc: 1\n",
      "[265]\tvalid_0's l1: 0.438385\tvalid_0's l2: 0.305219\tvalid_0's auc: 1\n",
      "[266]\tvalid_0's l1: 0.437098\tvalid_0's l2: 0.303638\tvalid_0's auc: 1\n",
      "[267]\tvalid_0's l1: 0.435796\tvalid_0's l2: 0.302079\tvalid_0's auc: 1\n",
      "[268]\tvalid_0's l1: 0.435045\tvalid_0's l2: 0.301227\tvalid_0's auc: 1\n",
      "[269]\tvalid_0's l1: 0.433626\tvalid_0's l2: 0.299558\tvalid_0's auc: 1\n",
      "[270]\tvalid_0's l1: 0.432203\tvalid_0's l2: 0.297862\tvalid_0's auc: 1\n",
      "[271]\tvalid_0's l1: 0.430886\tvalid_0's l2: 0.296267\tvalid_0's auc: 1\n",
      "[272]\tvalid_0's l1: 0.429568\tvalid_0's l2: 0.294681\tvalid_0's auc: 1\n",
      "[273]\tvalid_0's l1: 0.428875\tvalid_0's l2: 0.29388\tvalid_0's auc: 1\n",
      "[274]\tvalid_0's l1: 0.427575\tvalid_0's l2: 0.292302\tvalid_0's auc: 1\n",
      "[275]\tvalid_0's l1: 0.426277\tvalid_0's l2: 0.290752\tvalid_0's auc: 1\n",
      "[276]\tvalid_0's l1: 0.424982\tvalid_0's l2: 0.289214\tvalid_0's auc: 1\n",
      "[277]\tvalid_0's l1: 0.424287\tvalid_0's l2: 0.288419\tvalid_0's auc: 1\n",
      "[278]\tvalid_0's l1: 0.423614\tvalid_0's l2: 0.287645\tvalid_0's auc: 1\n",
      "[279]\tvalid_0's l1: 0.422335\tvalid_0's l2: 0.286115\tvalid_0's auc: 1\n",
      "[280]\tvalid_0's l1: 0.421079\tvalid_0's l2: 0.284626\tvalid_0's auc: 1\n",
      "[281]\tvalid_0's l1: 0.419883\tvalid_0's l2: 0.283225\tvalid_0's auc: 1\n",
      "[282]\tvalid_0's l1: 0.418705\tvalid_0's l2: 0.281858\tvalid_0's auc: 1\n",
      "[283]\tvalid_0's l1: 0.417547\tvalid_0's l2: 0.280505\tvalid_0's auc: 1\n",
      "[284]\tvalid_0's l1: 0.416384\tvalid_0's l2: 0.279157\tvalid_0's auc: 1\n",
      "[285]\tvalid_0's l1: 0.415733\tvalid_0's l2: 0.278419\tvalid_0's auc: 1\n",
      "[286]\tvalid_0's l1: 0.414581\tvalid_0's l2: 0.277096\tvalid_0's auc: 1\n",
      "[287]\tvalid_0's l1: 0.413412\tvalid_0's l2: 0.275756\tvalid_0's auc: 1\n",
      "[288]\tvalid_0's l1: 0.412276\tvalid_0's l2: 0.274453\tvalid_0's auc: 1\n",
      "[289]\tvalid_0's l1: 0.411147\tvalid_0's l2: 0.273168\tvalid_0's auc: 1\n",
      "[290]\tvalid_0's l1: 0.410031\tvalid_0's l2: 0.271891\tvalid_0's auc: 1\n",
      "[291]\tvalid_0's l1: 0.408852\tvalid_0's l2: 0.270483\tvalid_0's auc: 1\n",
      "[292]\tvalid_0's l1: 0.407677\tvalid_0's l2: 0.269076\tvalid_0's auc: 1\n",
      "[293]\tvalid_0's l1: 0.406471\tvalid_0's l2: 0.26764\tvalid_0's auc: 1\n",
      "[294]\tvalid_0's l1: 0.405848\tvalid_0's l2: 0.266963\tvalid_0's auc: 1\n",
      "[295]\tvalid_0's l1: 0.404676\tvalid_0's l2: 0.265578\tvalid_0's auc: 1\n",
      "[296]\tvalid_0's l1: 0.403503\tvalid_0's l2: 0.264182\tvalid_0's auc: 1\n",
      "[297]\tvalid_0's l1: 0.402443\tvalid_0's l2: 0.262984\tvalid_0's auc: 1\n",
      "[298]\tvalid_0's l1: 0.40129\tvalid_0's l2: 0.261619\tvalid_0's auc: 1\n",
      "[299]\tvalid_0's l1: 0.400138\tvalid_0's l2: 0.260264\tvalid_0's auc: 1\n",
      "[300]\tvalid_0's l1: 0.399592\tvalid_0's l2: 0.259674\tvalid_0's auc: 1\n",
      "[301]\tvalid_0's l1: 0.398473\tvalid_0's l2: 0.258416\tvalid_0's auc: 1\n",
      "[302]\tvalid_0's l1: 0.397378\tvalid_0's l2: 0.257185\tvalid_0's auc: 1\n",
      "[303]\tvalid_0's l1: 0.396223\tvalid_0's l2: 0.255903\tvalid_0's auc: 1\n",
      "[304]\tvalid_0's l1: 0.395035\tvalid_0's l2: 0.254594\tvalid_0's auc: 1\n",
      "[305]\tvalid_0's l1: 0.393893\tvalid_0's l2: 0.253331\tvalid_0's auc: 1\n",
      "[306]\tvalid_0's l1: 0.392763\tvalid_0's l2: 0.252086\tvalid_0's auc: 1\n",
      "[307]\tvalid_0's l1: 0.391639\tvalid_0's l2: 0.250851\tvalid_0's auc: 1\n",
      "[308]\tvalid_0's l1: 0.390518\tvalid_0's l2: 0.249627\tvalid_0's auc: 1\n",
      "[309]\tvalid_0's l1: 0.389407\tvalid_0's l2: 0.248414\tvalid_0's auc: 1\n",
      "[310]\tvalid_0's l1: 0.388894\tvalid_0's l2: 0.247868\tvalid_0's auc: 1\n",
      "[311]\tvalid_0's l1: 0.387757\tvalid_0's l2: 0.246611\tvalid_0's auc: 1\n",
      "[312]\tvalid_0's l1: 0.386668\tvalid_0's l2: 0.245388\tvalid_0's auc: 1\n",
      "[313]\tvalid_0's l1: 0.385603\tvalid_0's l2: 0.244204\tvalid_0's auc: 1\n",
      "[314]\tvalid_0's l1: 0.38452\tvalid_0's l2: 0.243031\tvalid_0's auc: 1\n",
      "[315]\tvalid_0's l1: 0.383423\tvalid_0's l2: 0.241817\tvalid_0's auc: 1\n",
      "[316]\tvalid_0's l1: 0.382321\tvalid_0's l2: 0.240608\tvalid_0's auc: 1\n",
      "[317]\tvalid_0's l1: 0.381334\tvalid_0's l2: 0.239544\tvalid_0's auc: 1\n",
      "[318]\tvalid_0's l1: 0.380291\tvalid_0's l2: 0.238403\tvalid_0's auc: 1\n",
      "[319]\tvalid_0's l1: 0.379211\tvalid_0's l2: 0.237229\tvalid_0's auc: 1\n",
      "[320]\tvalid_0's l1: 0.378145\tvalid_0's l2: 0.236068\tvalid_0's auc: 1\n",
      "[321]\tvalid_0's l1: 0.377171\tvalid_0's l2: 0.235019\tvalid_0's auc: 1\n",
      "[322]\tvalid_0's l1: 0.376207\tvalid_0's l2: 0.233987\tvalid_0's auc: 1\n",
      "[323]\tvalid_0's l1: 0.375251\tvalid_0's l2: 0.232964\tvalid_0's auc: 1\n",
      "[324]\tvalid_0's l1: 0.374288\tvalid_0's l2: 0.231932\tvalid_0's auc: 1\n",
      "[325]\tvalid_0's l1: 0.373373\tvalid_0's l2: 0.230966\tvalid_0's auc: 1\n",
      "[326]\tvalid_0's l1: 0.372437\tvalid_0's l2: 0.230003\tvalid_0's auc: 1\n",
      "[327]\tvalid_0's l1: 0.371509\tvalid_0's l2: 0.229048\tvalid_0's auc: 1\n",
      "[328]\tvalid_0's l1: 0.370558\tvalid_0's l2: 0.228024\tvalid_0's auc: 1\n",
      "[329]\tvalid_0's l1: 0.369637\tvalid_0's l2: 0.22705\tvalid_0's auc: 1\n",
      "[330]\tvalid_0's l1: 0.368729\tvalid_0's l2: 0.22612\tvalid_0's auc: 1\n",
      "[331]\tvalid_0's l1: 0.367739\tvalid_0's l2: 0.225066\tvalid_0's auc: 1\n",
      "[332]\tvalid_0's l1: 0.366832\tvalid_0's l2: 0.224105\tvalid_0's auc: 1\n",
      "[333]\tvalid_0's l1: 0.365859\tvalid_0's l2: 0.223075\tvalid_0's auc: 1\n"
     ]
    },
    {
     "name": "stdout",
     "output_type": "stream",
     "text": [
      "[334]\tvalid_0's l1: 0.364891\tvalid_0's l2: 0.222051\tvalid_0's auc: 1\n",
      "[335]\tvalid_0's l1: 0.363933\tvalid_0's l2: 0.221047\tvalid_0's auc: 1\n",
      "[336]\tvalid_0's l1: 0.363442\tvalid_0's l2: 0.220557\tvalid_0's auc: 1\n",
      "[337]\tvalid_0's l1: 0.362473\tvalid_0's l2: 0.219523\tvalid_0's auc: 1\n",
      "[338]\tvalid_0's l1: 0.361523\tvalid_0's l2: 0.218522\tvalid_0's auc: 1\n",
      "[339]\tvalid_0's l1: 0.360526\tvalid_0's l2: 0.217479\tvalid_0's auc: 1\n",
      "[340]\tvalid_0's l1: 0.359587\tvalid_0's l2: 0.216503\tvalid_0's auc: 1\n",
      "[341]\tvalid_0's l1: 0.358691\tvalid_0's l2: 0.215594\tvalid_0's auc: 1\n",
      "[342]\tvalid_0's l1: 0.357797\tvalid_0's l2: 0.2147\tvalid_0's auc: 1\n",
      "[343]\tvalid_0's l1: 0.356984\tvalid_0's l2: 0.213892\tvalid_0's auc: 1\n",
      "[344]\tvalid_0's l1: 0.356503\tvalid_0's l2: 0.21341\tvalid_0's auc: 1\n",
      "[345]\tvalid_0's l1: 0.355641\tvalid_0's l2: 0.21253\tvalid_0's auc: 1\n",
      "[346]\tvalid_0's l1: 0.354789\tvalid_0's l2: 0.211663\tvalid_0's auc: 1\n",
      "[347]\tvalid_0's l1: 0.353925\tvalid_0's l2: 0.210802\tvalid_0's auc: 1\n",
      "[348]\tvalid_0's l1: 0.353066\tvalid_0's l2: 0.209949\tvalid_0's auc: 1\n",
      "[349]\tvalid_0's l1: 0.352213\tvalid_0's l2: 0.209105\tvalid_0's auc: 1\n",
      "[350]\tvalid_0's l1: 0.351368\tvalid_0's l2: 0.208269\tvalid_0's auc: 1\n",
      "[351]\tvalid_0's l1: 0.350434\tvalid_0's l2: 0.207333\tvalid_0's auc: 1\n",
      "[352]\tvalid_0's l1: 0.349485\tvalid_0's l2: 0.20641\tvalid_0's auc: 1\n",
      "[353]\tvalid_0's l1: 0.348665\tvalid_0's l2: 0.205607\tvalid_0's auc: 1\n",
      "[354]\tvalid_0's l1: 0.347851\tvalid_0's l2: 0.204781\tvalid_0's auc: 1\n",
      "[355]\tvalid_0's l1: 0.346926\tvalid_0's l2: 0.20385\tvalid_0's auc: 1\n",
      "[356]\tvalid_0's l1: 0.346046\tvalid_0's l2: 0.202972\tvalid_0's auc: 1\n",
      "[357]\tvalid_0's l1: 0.345258\tvalid_0's l2: 0.202197\tvalid_0's auc: 1\n",
      "[358]\tvalid_0's l1: 0.34442\tvalid_0's l2: 0.201366\tvalid_0's auc: 1\n",
      "[359]\tvalid_0's l1: 0.343641\tvalid_0's l2: 0.20058\tvalid_0's auc: 1\n",
      "[360]\tvalid_0's l1: 0.342732\tvalid_0's l2: 0.199684\tvalid_0's auc: 1\n",
      "[361]\tvalid_0's l1: 0.341942\tvalid_0's l2: 0.198936\tvalid_0's auc: 1\n",
      "[362]\tvalid_0's l1: 0.341167\tvalid_0's l2: 0.198202\tvalid_0's auc: 1\n",
      "[363]\tvalid_0's l1: 0.340388\tvalid_0's l2: 0.197434\tvalid_0's auc: 1\n",
      "[364]\tvalid_0's l1: 0.339629\tvalid_0's l2: 0.196725\tvalid_0's auc: 1\n",
      "[365]\tvalid_0's l1: 0.339204\tvalid_0's l2: 0.196315\tvalid_0's auc: 1\n",
      "[366]\tvalid_0's l1: 0.338453\tvalid_0's l2: 0.195616\tvalid_0's auc: 1\n",
      "[367]\tvalid_0's l1: 0.337707\tvalid_0's l2: 0.194928\tvalid_0's auc: 1\n",
      "[368]\tvalid_0's l1: 0.336969\tvalid_0's l2: 0.194221\tvalid_0's auc: 1\n",
      "[369]\tvalid_0's l1: 0.336226\tvalid_0's l2: 0.193533\tvalid_0's auc: 1\n",
      "[370]\tvalid_0's l1: 0.335496\tvalid_0's l2: 0.192851\tvalid_0's auc: 1\n",
      "[371]\tvalid_0's l1: 0.334635\tvalid_0's l2: 0.192044\tvalid_0's auc: 1\n",
      "[372]\tvalid_0's l1: 0.333761\tvalid_0's l2: 0.191201\tvalid_0's auc: 1\n",
      "[373]\tvalid_0's l1: 0.3329\tvalid_0's l2: 0.190359\tvalid_0's auc: 1\n",
      "[374]\tvalid_0's l1: 0.332037\tvalid_0's l2: 0.189537\tvalid_0's auc: 1\n",
      "[375]\tvalid_0's l1: 0.331192\tvalid_0's l2: 0.188717\tvalid_0's auc: 1\n",
      "[376]\tvalid_0's l1: 0.330343\tvalid_0's l2: 0.187908\tvalid_0's auc: 1\n",
      "[377]\tvalid_0's l1: 0.329524\tvalid_0's l2: 0.18715\tvalid_0's auc: 1\n",
      "[378]\tvalid_0's l1: 0.328712\tvalid_0's l2: 0.186401\tvalid_0's auc: 1\n",
      "[379]\tvalid_0's l1: 0.327885\tvalid_0's l2: 0.185609\tvalid_0's auc: 1\n",
      "[380]\tvalid_0's l1: 0.32725\tvalid_0's l2: 0.185042\tvalid_0's auc: 1\n",
      "[381]\tvalid_0's l1: 0.326878\tvalid_0's l2: 0.184693\tvalid_0's auc: 1\n",
      "[382]\tvalid_0's l1: 0.326164\tvalid_0's l2: 0.184024\tvalid_0's auc: 1\n",
      "[383]\tvalid_0's l1: 0.3258\tvalid_0's l2: 0.183679\tvalid_0's auc: 1\n",
      "[384]\tvalid_0's l1: 0.325435\tvalid_0's l2: 0.183333\tvalid_0's auc: 1\n",
      "[385]\tvalid_0's l1: 0.324697\tvalid_0's l2: 0.182654\tvalid_0's auc: 1\n",
      "[386]\tvalid_0's l1: 0.324322\tvalid_0's l2: 0.182311\tvalid_0's auc: 1\n",
      "[387]\tvalid_0's l1: 0.323961\tvalid_0's l2: 0.181977\tvalid_0's auc: 1\n",
      "[388]\tvalid_0's l1: 0.323304\tvalid_0's l2: 0.181373\tvalid_0's auc: 1\n",
      "[389]\tvalid_0's l1: 0.322657\tvalid_0's l2: 0.180775\tvalid_0's auc: 1\n",
      "[390]\tvalid_0's l1: 0.321943\tvalid_0's l2: 0.180125\tvalid_0's auc: 1\n",
      "[391]\tvalid_0's l1: 0.321224\tvalid_0's l2: 0.17949\tvalid_0's auc: 1\n",
      "[392]\tvalid_0's l1: 0.320513\tvalid_0's l2: 0.178863\tvalid_0's auc: 1\n",
      "[393]\tvalid_0's l1: 0.319821\tvalid_0's l2: 0.178247\tvalid_0's auc: 1\n",
      "[394]\tvalid_0's l1: 0.319116\tvalid_0's l2: 0.177634\tvalid_0's auc: 1\n",
      "[395]\tvalid_0's l1: 0.31844\tvalid_0's l2: 0.177038\tvalid_0's auc: 1\n",
      "[396]\tvalid_0's l1: 0.317764\tvalid_0's l2: 0.176424\tvalid_0's auc: 1\n",
      "[397]\tvalid_0's l1: 0.317072\tvalid_0's l2: 0.175811\tvalid_0's auc: 1\n",
      "[398]\tvalid_0's l1: 0.316391\tvalid_0's l2: 0.175213\tvalid_0's auc: 1\n",
      "[399]\tvalid_0's l1: 0.31562\tvalid_0's l2: 0.174493\tvalid_0's auc: 1\n",
      "[400]\tvalid_0's l1: 0.314942\tvalid_0's l2: 0.173898\tvalid_0's auc: 1\n",
      "[401]\tvalid_0's l1: 0.314331\tvalid_0's l2: 0.173355\tvalid_0's auc: 1\n",
      "[402]\tvalid_0's l1: 0.313663\tvalid_0's l2: 0.172756\tvalid_0's auc: 1\n",
      "[403]\tvalid_0's l1: 0.313066\tvalid_0's l2: 0.172228\tvalid_0's auc: 1\n",
      "[404]\tvalid_0's l1: 0.312472\tvalid_0's l2: 0.171718\tvalid_0's auc: 1\n",
      "[405]\tvalid_0's l1: 0.311892\tvalid_0's l2: 0.171217\tvalid_0's auc: 1\n",
      "[406]\tvalid_0's l1: 0.311317\tvalid_0's l2: 0.170714\tvalid_0's auc: 1\n",
      "[407]\tvalid_0's l1: 0.310738\tvalid_0's l2: 0.170205\tvalid_0's auc: 1\n",
      "[408]\tvalid_0's l1: 0.310164\tvalid_0's l2: 0.16971\tvalid_0's auc: 1\n",
      "[409]\tvalid_0's l1: 0.3096\tvalid_0's l2: 0.169213\tvalid_0's auc: 1\n",
      "[410]\tvalid_0's l1: 0.309017\tvalid_0's l2: 0.168706\tvalid_0's auc: 1\n",
      "[411]\tvalid_0's l1: 0.308433\tvalid_0's l2: 0.168206\tvalid_0's auc: 1\n",
      "[412]\tvalid_0's l1: 0.30781\tvalid_0's l2: 0.167684\tvalid_0's auc: 1\n",
      "[413]\tvalid_0's l1: 0.307179\tvalid_0's l2: 0.16715\tvalid_0's auc: 1\n",
      "[414]\tvalid_0's l1: 0.30655\tvalid_0's l2: 0.166623\tvalid_0's auc: 1\n",
      "[415]\tvalid_0's l1: 0.305928\tvalid_0's l2: 0.1661\tvalid_0's auc: 1\n",
      "[416]\tvalid_0's l1: 0.30533\tvalid_0's l2: 0.165589\tvalid_0's auc: 1\n",
      "[417]\tvalid_0's l1: 0.304679\tvalid_0's l2: 0.165029\tvalid_0's auc: 1\n",
      "[418]\tvalid_0's l1: 0.304077\tvalid_0's l2: 0.164523\tvalid_0's auc: 1\n",
      "[419]\tvalid_0's l1: 0.303439\tvalid_0's l2: 0.163971\tvalid_0's auc: 1\n",
      "[420]\tvalid_0's l1: 0.302902\tvalid_0's l2: 0.163526\tvalid_0's auc: 1\n",
      "[421]\tvalid_0's l1: 0.302221\tvalid_0's l2: 0.16294\tvalid_0's auc: 1\n",
      "[422]\tvalid_0's l1: 0.301571\tvalid_0's l2: 0.162377\tvalid_0's auc: 1\n",
      "[423]\tvalid_0's l1: 0.30091\tvalid_0's l2: 0.161814\tvalid_0's auc: 1\n",
      "[424]\tvalid_0's l1: 0.300267\tvalid_0's l2: 0.161257\tvalid_0's auc: 1\n",
      "[425]\tvalid_0's l1: 0.299667\tvalid_0's l2: 0.160729\tvalid_0's auc: 1\n",
      "[426]\tvalid_0's l1: 0.29904\tvalid_0's l2: 0.16019\tvalid_0's auc: 1\n",
      "[427]\tvalid_0's l1: 0.298457\tvalid_0's l2: 0.159701\tvalid_0's auc: 1\n",
      "[428]\tvalid_0's l1: 0.297905\tvalid_0's l2: 0.159221\tvalid_0's auc: 1\n",
      "[429]\tvalid_0's l1: 0.297351\tvalid_0's l2: 0.158739\tvalid_0's auc: 1\n",
      "[430]\tvalid_0's l1: 0.296821\tvalid_0's l2: 0.158291\tvalid_0's auc: 1\n",
      "[431]\tvalid_0's l1: 0.296316\tvalid_0's l2: 0.157841\tvalid_0's auc: 1\n",
      "[432]\tvalid_0's l1: 0.295823\tvalid_0's l2: 0.157396\tvalid_0's auc: 1\n",
      "[433]\tvalid_0's l1: 0.295325\tvalid_0's l2: 0.156942\tvalid_0's auc: 1\n",
      "[434]\tvalid_0's l1: 0.29484\tvalid_0's l2: 0.156502\tvalid_0's auc: 1\n",
      "[435]\tvalid_0's l1: 0.294549\tvalid_0's l2: 0.156239\tvalid_0's auc: 1\n",
      "[436]\tvalid_0's l1: 0.294065\tvalid_0's l2: 0.155798\tvalid_0's auc: 1\n",
      "[437]\tvalid_0's l1: 0.293629\tvalid_0's l2: 0.15541\tvalid_0's auc: 1\n",
      "[438]\tvalid_0's l1: 0.293144\tvalid_0's l2: 0.155001\tvalid_0's auc: 1\n",
      "[439]\tvalid_0's l1: 0.292538\tvalid_0's l2: 0.154456\tvalid_0's auc: 1\n",
      "[440]\tvalid_0's l1: 0.291945\tvalid_0's l2: 0.153921\tvalid_0's auc: 1\n",
      "[441]\tvalid_0's l1: 0.291242\tvalid_0's l2: 0.153307\tvalid_0's auc: 1\n",
      "[442]\tvalid_0's l1: 0.29078\tvalid_0's l2: 0.152913\tvalid_0's auc: 1\n",
      "[443]\tvalid_0's l1: 0.290082\tvalid_0's l2: 0.152296\tvalid_0's auc: 1\n",
      "[444]\tvalid_0's l1: 0.289373\tvalid_0's l2: 0.151661\tvalid_0's auc: 1\n",
      "[445]\tvalid_0's l1: 0.288685\tvalid_0's l2: 0.151058\tvalid_0's auc: 1\n",
      "[446]\tvalid_0's l1: 0.288107\tvalid_0's l2: 0.150564\tvalid_0's auc: 1\n",
      "[447]\tvalid_0's l1: 0.287444\tvalid_0's l2: 0.149965\tvalid_0's auc: 1\n",
      "[448]\tvalid_0's l1: 0.286865\tvalid_0's l2: 0.149479\tvalid_0's auc: 1\n",
      "[449]\tvalid_0's l1: 0.286304\tvalid_0's l2: 0.149002\tvalid_0's auc: 1\n",
      "[450]\tvalid_0's l1: 0.28563\tvalid_0's l2: 0.148411\tvalid_0's auc: 1\n",
      "[451]\tvalid_0's l1: 0.285152\tvalid_0's l2: 0.148016\tvalid_0's auc: 1\n",
      "[452]\tvalid_0's l1: 0.284683\tvalid_0's l2: 0.147627\tvalid_0's auc: 1\n",
      "[453]\tvalid_0's l1: 0.28425\tvalid_0's l2: 0.147263\tvalid_0's auc: 1\n",
      "[454]\tvalid_0's l1: 0.283783\tvalid_0's l2: 0.14688\tvalid_0's auc: 1\n",
      "[455]\tvalid_0's l1: 0.283526\tvalid_0's l2: 0.146664\tvalid_0's auc: 1\n",
      "[456]\tvalid_0's l1: 0.283266\tvalid_0's l2: 0.146441\tvalid_0's auc: 1\n",
      "[457]\tvalid_0's l1: 0.282819\tvalid_0's l2: 0.146072\tvalid_0's auc: 1\n",
      "[458]\tvalid_0's l1: 0.282357\tvalid_0's l2: 0.145699\tvalid_0's auc: 1\n",
      "[459]\tvalid_0's l1: 0.281905\tvalid_0's l2: 0.145335\tvalid_0's auc: 1\n",
      "[460]\tvalid_0's l1: 0.281446\tvalid_0's l2: 0.144964\tvalid_0's auc: 1\n",
      "[461]\tvalid_0's l1: 0.280971\tvalid_0's l2: 0.144578\tvalid_0's auc: 1\n",
      "[462]\tvalid_0's l1: 0.280719\tvalid_0's l2: 0.144364\tvalid_0's auc: 1\n",
      "[463]\tvalid_0's l1: 0.280133\tvalid_0's l2: 0.14386\tvalid_0's auc: 1\n",
      "[464]\tvalid_0's l1: 0.279565\tvalid_0's l2: 0.14337\tvalid_0's auc: 1\n",
      "[465]\tvalid_0's l1: 0.278983\tvalid_0's l2: 0.142881\tvalid_0's auc: 1\n",
      "[466]\tvalid_0's l1: 0.278399\tvalid_0's l2: 0.142384\tvalid_0's auc: 1\n",
      "[467]\tvalid_0's l1: 0.277802\tvalid_0's l2: 0.141885\tvalid_0's auc: 1\n",
      "[468]\tvalid_0's l1: 0.277221\tvalid_0's l2: 0.141393\tvalid_0's auc: 1\n",
      "[469]\tvalid_0's l1: 0.276629\tvalid_0's l2: 0.140894\tvalid_0's auc: 1\n",
      "[470]\tvalid_0's l1: 0.276071\tvalid_0's l2: 0.140427\tvalid_0's auc: 1\n",
      "[471]\tvalid_0's l1: 0.275582\tvalid_0's l2: 0.140018\tvalid_0's auc: 1\n",
      "[472]\tvalid_0's l1: 0.275095\tvalid_0's l2: 0.139612\tvalid_0's auc: 1\n",
      "[473]\tvalid_0's l1: 0.274668\tvalid_0's l2: 0.139257\tvalid_0's auc: 1\n",
      "[474]\tvalid_0's l1: 0.274297\tvalid_0's l2: 0.138951\tvalid_0's auc: 1\n",
      "[475]\tvalid_0's l1: 0.274081\tvalid_0's l2: 0.138764\tvalid_0's auc: 1\n",
      "[476]\tvalid_0's l1: 0.273697\tvalid_0's l2: 0.138444\tvalid_0's auc: 1\n",
      "[477]\tvalid_0's l1: 0.273238\tvalid_0's l2: 0.138056\tvalid_0's auc: 1\n",
      "[478]\tvalid_0's l1: 0.272895\tvalid_0's l2: 0.137764\tvalid_0's auc: 1\n",
      "[479]\tvalid_0's l1: 0.272451\tvalid_0's l2: 0.137381\tvalid_0's auc: 1\n",
      "[480]\tvalid_0's l1: 0.272117\tvalid_0's l2: 0.137095\tvalid_0's auc: 1\n",
      "[481]\tvalid_0's l1: 0.271637\tvalid_0's l2: 0.136683\tvalid_0's auc: 1\n",
      "[482]\tvalid_0's l1: 0.271186\tvalid_0's l2: 0.136309\tvalid_0's auc: 1\n",
      "[483]\tvalid_0's l1: 0.270741\tvalid_0's l2: 0.135954\tvalid_0's auc: 1\n",
      "[484]\tvalid_0's l1: 0.270266\tvalid_0's l2: 0.135552\tvalid_0's auc: 1\n",
      "[485]\tvalid_0's l1: 0.269813\tvalid_0's l2: 0.13518\tvalid_0's auc: 1\n",
      "[486]\tvalid_0's l1: 0.26937\tvalid_0's l2: 0.134815\tvalid_0's auc: 1\n",
      "[487]\tvalid_0's l1: 0.268896\tvalid_0's l2: 0.134414\tvalid_0's auc: 1\n",
      "[488]\tvalid_0's l1: 0.268695\tvalid_0's l2: 0.134232\tvalid_0's auc: 1\n",
      "[489]\tvalid_0's l1: 0.268496\tvalid_0's l2: 0.134056\tvalid_0's auc: 1\n",
      "[490]\tvalid_0's l1: 0.268053\tvalid_0's l2: 0.133692\tvalid_0's auc: 1\n",
      "[491]\tvalid_0's l1: 0.26771\tvalid_0's l2: 0.133393\tvalid_0's auc: 1\n",
      "[492]\tvalid_0's l1: 0.267364\tvalid_0's l2: 0.133102\tvalid_0's auc: 1\n",
      "[493]\tvalid_0's l1: 0.267044\tvalid_0's l2: 0.132842\tvalid_0's auc: 1\n",
      "[494]\tvalid_0's l1: 0.266726\tvalid_0's l2: 0.132584\tvalid_0's auc: 1\n",
      "[495]\tvalid_0's l1: 0.266381\tvalid_0's l2: 0.132292\tvalid_0's auc: 1\n"
     ]
    },
    {
     "name": "stdout",
     "output_type": "stream",
     "text": [
      "[496]\tvalid_0's l1: 0.266047\tvalid_0's l2: 0.132008\tvalid_0's auc: 1\n",
      "[497]\tvalid_0's l1: 0.26572\tvalid_0's l2: 0.131726\tvalid_0's auc: 1\n",
      "[498]\tvalid_0's l1: 0.265394\tvalid_0's l2: 0.131461\tvalid_0's auc: 1\n",
      "[499]\tvalid_0's l1: 0.265094\tvalid_0's l2: 0.131226\tvalid_0's auc: 1\n",
      "[500]\tvalid_0's l1: 0.264784\tvalid_0's l2: 0.130973\tvalid_0's auc: 1\n",
      "[501]\tvalid_0's l1: 0.264282\tvalid_0's l2: 0.130555\tvalid_0's auc: 1\n",
      "[502]\tvalid_0's l1: 0.264112\tvalid_0's l2: 0.130396\tvalid_0's auc: 1\n",
      "[503]\tvalid_0's l1: 0.263617\tvalid_0's l2: 0.129992\tvalid_0's auc: 1\n",
      "[504]\tvalid_0's l1: 0.263112\tvalid_0's l2: 0.12958\tvalid_0's auc: 1\n",
      "[505]\tvalid_0's l1: 0.262627\tvalid_0's l2: 0.129161\tvalid_0's auc: 1\n",
      "[506]\tvalid_0's l1: 0.262151\tvalid_0's l2: 0.128756\tvalid_0's auc: 1\n",
      "[507]\tvalid_0's l1: 0.26166\tvalid_0's l2: 0.128351\tvalid_0's auc: 1\n",
      "[508]\tvalid_0's l1: 0.261184\tvalid_0's l2: 0.12796\tvalid_0's auc: 1\n",
      "[509]\tvalid_0's l1: 0.260716\tvalid_0's l2: 0.127585\tvalid_0's auc: 1\n",
      "[510]\tvalid_0's l1: 0.260232\tvalid_0's l2: 0.127198\tvalid_0's auc: 1\n",
      "[511]\tvalid_0's l1: 0.259789\tvalid_0's l2: 0.126824\tvalid_0's auc: 1\n",
      "[512]\tvalid_0's l1: 0.259409\tvalid_0's l2: 0.126497\tvalid_0's auc: 1\n",
      "[513]\tvalid_0's l1: 0.258974\tvalid_0's l2: 0.126126\tvalid_0's auc: 1\n",
      "[514]\tvalid_0's l1: 0.25853\tvalid_0's l2: 0.125755\tvalid_0's auc: 1\n",
      "[515]\tvalid_0's l1: 0.258104\tvalid_0's l2: 0.125396\tvalid_0's auc: 1\n",
      "[516]\tvalid_0's l1: 0.257686\tvalid_0's l2: 0.125042\tvalid_0's auc: 1\n",
      "[517]\tvalid_0's l1: 0.257261\tvalid_0's l2: 0.124685\tvalid_0's auc: 1\n",
      "[518]\tvalid_0's l1: 0.256798\tvalid_0's l2: 0.1243\tvalid_0's auc: 1\n",
      "[519]\tvalid_0's l1: 0.256382\tvalid_0's l2: 0.123958\tvalid_0's auc: 1\n",
      "[520]\tvalid_0's l1: 0.255925\tvalid_0's l2: 0.123578\tvalid_0's auc: 1\n",
      "[521]\tvalid_0's l1: 0.255626\tvalid_0's l2: 0.123336\tvalid_0's auc: 1\n",
      "[522]\tvalid_0's l1: 0.255341\tvalid_0's l2: 0.123103\tvalid_0's auc: 1\n",
      "[523]\tvalid_0's l1: 0.255038\tvalid_0's l2: 0.12286\tvalid_0's auc: 1\n",
      "[524]\tvalid_0's l1: 0.25475\tvalid_0's l2: 0.12263\tvalid_0's auc: 1\n",
      "[525]\tvalid_0's l1: 0.254597\tvalid_0's l2: 0.122491\tvalid_0's auc: 1\n",
      "[526]\tvalid_0's l1: 0.254294\tvalid_0's l2: 0.12225\tvalid_0's auc: 1\n",
      "[527]\tvalid_0's l1: 0.254005\tvalid_0's l2: 0.122025\tvalid_0's auc: 1\n",
      "[528]\tvalid_0's l1: 0.253701\tvalid_0's l2: 0.12177\tvalid_0's auc: 1\n",
      "[529]\tvalid_0's l1: 0.253418\tvalid_0's l2: 0.121547\tvalid_0's auc: 1\n",
      "[530]\tvalid_0's l1: 0.253129\tvalid_0's l2: 0.12132\tvalid_0's auc: 1\n",
      "[531]\tvalid_0's l1: 0.252739\tvalid_0's l2: 0.120995\tvalid_0's auc: 1\n",
      "[532]\tvalid_0's l1: 0.252311\tvalid_0's l2: 0.120643\tvalid_0's auc: 1\n",
      "[533]\tvalid_0's l1: 0.251885\tvalid_0's l2: 0.120293\tvalid_0's auc: 1\n",
      "[534]\tvalid_0's l1: 0.251515\tvalid_0's l2: 0.119993\tvalid_0's auc: 1\n",
      "[535]\tvalid_0's l1: 0.25111\tvalid_0's l2: 0.11966\tvalid_0's auc: 1\n",
      "[536]\tvalid_0's l1: 0.250696\tvalid_0's l2: 0.11932\tvalid_0's auc: 1\n",
      "[537]\tvalid_0's l1: 0.250318\tvalid_0's l2: 0.119014\tvalid_0's auc: 1\n",
      "[538]\tvalid_0's l1: 0.249927\tvalid_0's l2: 0.11869\tvalid_0's auc: 1\n",
      "[539]\tvalid_0's l1: 0.249563\tvalid_0's l2: 0.11839\tvalid_0's auc: 1\n",
      "[540]\tvalid_0's l1: 0.24919\tvalid_0's l2: 0.11808\tvalid_0's auc: 1\n",
      "[541]\tvalid_0's l1: 0.248852\tvalid_0's l2: 0.117817\tvalid_0's auc: 1\n",
      "[542]\tvalid_0's l1: 0.248521\tvalid_0's l2: 0.117555\tvalid_0's auc: 1\n",
      "[543]\tvalid_0's l1: 0.248251\tvalid_0's l2: 0.117356\tvalid_0's auc: 1\n",
      "[544]\tvalid_0's l1: 0.247971\tvalid_0's l2: 0.117145\tvalid_0's auc: 1\n",
      "[545]\tvalid_0's l1: 0.247709\tvalid_0's l2: 0.11695\tvalid_0's auc: 1\n",
      "[546]\tvalid_0's l1: 0.2474\tvalid_0's l2: 0.116712\tvalid_0's auc: 1\n",
      "[547]\tvalid_0's l1: 0.247098\tvalid_0's l2: 0.116486\tvalid_0's auc: 1\n",
      "[548]\tvalid_0's l1: 0.246962\tvalid_0's l2: 0.116359\tvalid_0's auc: 1\n",
      "[549]\tvalid_0's l1: 0.246689\tvalid_0's l2: 0.116154\tvalid_0's auc: 1\n",
      "[550]\tvalid_0's l1: 0.246423\tvalid_0's l2: 0.115956\tvalid_0's auc: 1\n",
      "[551]\tvalid_0's l1: 0.246166\tvalid_0's l2: 0.115718\tvalid_0's auc: 1\n",
      "[552]\tvalid_0's l1: 0.246027\tvalid_0's l2: 0.115588\tvalid_0's auc: 1\n",
      "[553]\tvalid_0's l1: 0.245671\tvalid_0's l2: 0.115294\tvalid_0's auc: 1\n",
      "[554]\tvalid_0's l1: 0.245308\tvalid_0's l2: 0.114992\tvalid_0's auc: 1\n",
      "[555]\tvalid_0's l1: 0.244956\tvalid_0's l2: 0.114703\tvalid_0's auc: 1\n",
      "[556]\tvalid_0's l1: 0.244612\tvalid_0's l2: 0.114424\tvalid_0's auc: 1\n",
      "[557]\tvalid_0's l1: 0.244291\tvalid_0's l2: 0.11416\tvalid_0's auc: 1\n",
      "[558]\tvalid_0's l1: 0.243934\tvalid_0's l2: 0.113868\tvalid_0's auc: 1\n",
      "[559]\tvalid_0's l1: 0.243603\tvalid_0's l2: 0.113597\tvalid_0's auc: 1\n",
      "[560]\tvalid_0's l1: 0.243273\tvalid_0's l2: 0.113332\tvalid_0's auc: 1\n",
      "[561]\tvalid_0's l1: 0.242936\tvalid_0's l2: 0.113062\tvalid_0's auc: 1\n",
      "[562]\tvalid_0's l1: 0.242659\tvalid_0's l2: 0.11284\tvalid_0's auc: 1\n",
      "[563]\tvalid_0's l1: 0.242517\tvalid_0's l2: 0.11271\tvalid_0's auc: 1\n",
      "[564]\tvalid_0's l1: 0.242258\tvalid_0's l2: 0.112502\tvalid_0's auc: 1\n",
      "[565]\tvalid_0's l1: 0.241999\tvalid_0's l2: 0.112295\tvalid_0's auc: 1\n",
      "[566]\tvalid_0's l1: 0.241715\tvalid_0's l2: 0.112073\tvalid_0's auc: 1\n",
      "[567]\tvalid_0's l1: 0.241438\tvalid_0's l2: 0.111859\tvalid_0's auc: 1\n",
      "[568]\tvalid_0's l1: 0.24116\tvalid_0's l2: 0.111642\tvalid_0's auc: 1\n",
      "[569]\tvalid_0's l1: 0.240922\tvalid_0's l2: 0.111448\tvalid_0's auc: 1\n",
      "[570]\tvalid_0's l1: 0.240685\tvalid_0's l2: 0.111261\tvalid_0's auc: 1\n",
      "[571]\tvalid_0's l1: 0.240474\tvalid_0's l2: 0.111092\tvalid_0's auc: 1\n",
      "[572]\tvalid_0's l1: 0.240266\tvalid_0's l2: 0.110921\tvalid_0's auc: 1\n",
      "[573]\tvalid_0's l1: 0.240055\tvalid_0's l2: 0.110752\tvalid_0's auc: 1\n",
      "[574]\tvalid_0's l1: 0.23985\tvalid_0's l2: 0.110586\tvalid_0's auc: 1\n",
      "[575]\tvalid_0's l1: 0.239659\tvalid_0's l2: 0.110427\tvalid_0's auc: 1\n",
      "[576]\tvalid_0's l1: 0.239476\tvalid_0's l2: 0.110273\tvalid_0's auc: 1\n",
      "[577]\tvalid_0's l1: 0.239261\tvalid_0's l2: 0.110109\tvalid_0's auc: 1\n",
      "[578]\tvalid_0's l1: 0.239049\tvalid_0's l2: 0.109947\tvalid_0's auc: 1\n",
      "[579]\tvalid_0's l1: 0.238859\tvalid_0's l2: 0.109791\tvalid_0's auc: 1\n",
      "[580]\tvalid_0's l1: 0.238676\tvalid_0's l2: 0.10964\tvalid_0's auc: 1\n",
      "[581]\tvalid_0's l1: 0.238458\tvalid_0's l2: 0.10948\tvalid_0's auc: 1\n",
      "[582]\tvalid_0's l1: 0.238235\tvalid_0's l2: 0.10931\tvalid_0's auc: 1\n",
      "[583]\tvalid_0's l1: 0.238015\tvalid_0's l2: 0.109145\tvalid_0's auc: 1\n",
      "[584]\tvalid_0's l1: 0.237781\tvalid_0's l2: 0.108978\tvalid_0's auc: 1\n",
      "[585]\tvalid_0's l1: 0.237531\tvalid_0's l2: 0.108786\tvalid_0's auc: 1\n",
      "[586]\tvalid_0's l1: 0.237327\tvalid_0's l2: 0.108638\tvalid_0's auc: 1\n",
      "[587]\tvalid_0's l1: 0.237101\tvalid_0's l2: 0.108463\tvalid_0's auc: 1\n",
      "[588]\tvalid_0's l1: 0.236867\tvalid_0's l2: 0.108291\tvalid_0's auc: 1\n",
      "[589]\tvalid_0's l1: 0.236646\tvalid_0's l2: 0.108127\tvalid_0's auc: 1\n",
      "[590]\tvalid_0's l1: 0.236509\tvalid_0's l2: 0.108012\tvalid_0's auc: 1\n",
      "[591]\tvalid_0's l1: 0.236287\tvalid_0's l2: 0.107841\tvalid_0's auc: 1\n",
      "[592]\tvalid_0's l1: 0.236006\tvalid_0's l2: 0.10764\tvalid_0's auc: 1\n",
      "[593]\tvalid_0's l1: 0.235727\tvalid_0's l2: 0.10744\tvalid_0's auc: 1\n",
      "[594]\tvalid_0's l1: 0.235506\tvalid_0's l2: 0.107272\tvalid_0's auc: 1\n",
      "[595]\tvalid_0's l1: 0.23529\tvalid_0's l2: 0.107098\tvalid_0's auc: 1\n",
      "[596]\tvalid_0's l1: 0.235155\tvalid_0's l2: 0.106974\tvalid_0's auc: 1\n",
      "[597]\tvalid_0's l1: 0.234878\tvalid_0's l2: 0.10678\tvalid_0's auc: 1\n",
      "[598]\tvalid_0's l1: 0.234656\tvalid_0's l2: 0.106603\tvalid_0's auc: 1\n",
      "[599]\tvalid_0's l1: 0.234445\tvalid_0's l2: 0.106435\tvalid_0's auc: 1\n",
      "[600]\tvalid_0's l1: 0.234317\tvalid_0's l2: 0.106325\tvalid_0's auc: 1\n",
      "[601]\tvalid_0's l1: 0.234012\tvalid_0's l2: 0.106113\tvalid_0's auc: 1\n",
      "[602]\tvalid_0's l1: 0.233732\tvalid_0's l2: 0.105913\tvalid_0's auc: 1\n",
      "[603]\tvalid_0's l1: 0.233434\tvalid_0's l2: 0.105681\tvalid_0's auc: 1\n",
      "[604]\tvalid_0's l1: 0.233178\tvalid_0's l2: 0.105502\tvalid_0's auc: 1\n",
      "[605]\tvalid_0's l1: 0.232874\tvalid_0's l2: 0.105276\tvalid_0's auc: 1\n",
      "[606]\tvalid_0's l1: 0.232604\tvalid_0's l2: 0.105087\tvalid_0's auc: 1\n",
      "[607]\tvalid_0's l1: 0.232287\tvalid_0's l2: 0.104852\tvalid_0's auc: 1\n",
      "[608]\tvalid_0's l1: 0.232164\tvalid_0's l2: 0.104728\tvalid_0's auc: 1\n",
      "[609]\tvalid_0's l1: 0.231907\tvalid_0's l2: 0.104554\tvalid_0's auc: 1\n",
      "[610]\tvalid_0's l1: 0.231633\tvalid_0's l2: 0.104361\tvalid_0's auc: 1\n",
      "[611]\tvalid_0's l1: 0.231195\tvalid_0's l2: 0.104019\tvalid_0's auc: 1\n",
      "[612]\tvalid_0's l1: 0.231018\tvalid_0's l2: 0.103884\tvalid_0's auc: 1\n",
      "[613]\tvalid_0's l1: 0.230843\tvalid_0's l2: 0.103745\tvalid_0's auc: 1\n",
      "[614]\tvalid_0's l1: 0.230412\tvalid_0's l2: 0.10341\tvalid_0's auc: 1\n",
      "[615]\tvalid_0's l1: 0.230262\tvalid_0's l2: 0.103293\tvalid_0's auc: 1\n",
      "[616]\tvalid_0's l1: 0.230115\tvalid_0's l2: 0.10318\tvalid_0's auc: 1\n",
      "[617]\tvalid_0's l1: 0.229696\tvalid_0's l2: 0.102852\tvalid_0's auc: 1\n",
      "[618]\tvalid_0's l1: 0.229525\tvalid_0's l2: 0.10272\tvalid_0's auc: 1\n",
      "[619]\tvalid_0's l1: 0.229356\tvalid_0's l2: 0.102595\tvalid_0's auc: 1\n",
      "[620]\tvalid_0's l1: 0.229153\tvalid_0's l2: 0.10245\tvalid_0's auc: 1\n",
      "[621]\tvalid_0's l1: 0.228803\tvalid_0's l2: 0.102162\tvalid_0's auc: 1\n",
      "[622]\tvalid_0's l1: 0.228476\tvalid_0's l2: 0.101898\tvalid_0's auc: 1\n",
      "[623]\tvalid_0's l1: 0.228147\tvalid_0's l2: 0.101623\tvalid_0's auc: 1\n",
      "[624]\tvalid_0's l1: 0.227816\tvalid_0's l2: 0.101348\tvalid_0's auc: 1\n",
      "[625]\tvalid_0's l1: 0.227483\tvalid_0's l2: 0.101068\tvalid_0's auc: 1\n",
      "[626]\tvalid_0's l1: 0.227157\tvalid_0's l2: 0.100799\tvalid_0's auc: 1\n",
      "[627]\tvalid_0's l1: 0.227043\tvalid_0's l2: 0.100701\tvalid_0's auc: 1\n",
      "[628]\tvalid_0's l1: 0.226715\tvalid_0's l2: 0.100432\tvalid_0's auc: 1\n",
      "[629]\tvalid_0's l1: 0.226373\tvalid_0's l2: 0.100159\tvalid_0's auc: 1\n",
      "[630]\tvalid_0's l1: 0.226045\tvalid_0's l2: 0.099891\tvalid_0's auc: 1\n",
      "[631]\tvalid_0's l1: 0.225865\tvalid_0's l2: 0.0997536\tvalid_0's auc: 1\n",
      "[632]\tvalid_0's l1: 0.225705\tvalid_0's l2: 0.0996234\tvalid_0's auc: 1\n",
      "[633]\tvalid_0's l1: 0.225537\tvalid_0's l2: 0.0994875\tvalid_0's auc: 1\n",
      "[634]\tvalid_0's l1: 0.225375\tvalid_0's l2: 0.0993689\tvalid_0's auc: 1\n",
      "[635]\tvalid_0's l1: 0.225221\tvalid_0's l2: 0.0992445\tvalid_0's auc: 1\n",
      "[636]\tvalid_0's l1: 0.225052\tvalid_0's l2: 0.0991164\tvalid_0's auc: 1\n",
      "[637]\tvalid_0's l1: 0.224781\tvalid_0's l2: 0.0989115\tvalid_0's auc: 1\n",
      "[638]\tvalid_0's l1: 0.224623\tvalid_0's l2: 0.0987883\tvalid_0's auc: 1\n",
      "[639]\tvalid_0's l1: 0.224389\tvalid_0's l2: 0.0986191\tvalid_0's auc: 1\n",
      "[640]\tvalid_0's l1: 0.224222\tvalid_0's l2: 0.098494\tvalid_0's auc: 1\n",
      "[641]\tvalid_0's l1: 0.224111\tvalid_0's l2: 0.0984022\tvalid_0's auc: 1\n",
      "[642]\tvalid_0's l1: 0.223968\tvalid_0's l2: 0.098278\tvalid_0's auc: 1\n",
      "[643]\tvalid_0's l1: 0.223821\tvalid_0's l2: 0.0981828\tvalid_0's auc: 1\n",
      "[644]\tvalid_0's l1: 0.223655\tvalid_0's l2: 0.0980583\tvalid_0's auc: 1\n",
      "[645]\tvalid_0's l1: 0.223474\tvalid_0's l2: 0.0979352\tvalid_0's auc: 1\n",
      "[646]\tvalid_0's l1: 0.223342\tvalid_0's l2: 0.0978231\tvalid_0's auc: 1\n",
      "[647]\tvalid_0's l1: 0.223208\tvalid_0's l2: 0.0977264\tvalid_0's auc: 1\n",
      "[648]\tvalid_0's l1: 0.223044\tvalid_0's l2: 0.0976041\tvalid_0's auc: 1\n",
      "[649]\tvalid_0's l1: 0.222944\tvalid_0's l2: 0.0975221\tvalid_0's auc: 1\n",
      "[650]\tvalid_0's l1: 0.222701\tvalid_0's l2: 0.0973405\tvalid_0's auc: 1\n",
      "[651]\tvalid_0's l1: 0.222513\tvalid_0's l2: 0.0972009\tvalid_0's auc: 1\n",
      "[652]\tvalid_0's l1: 0.222271\tvalid_0's l2: 0.0970176\tvalid_0's auc: 1\n"
     ]
    },
    {
     "name": "stdout",
     "output_type": "stream",
     "text": [
      "[653]\tvalid_0's l1: 0.222079\tvalid_0's l2: 0.0968747\tvalid_0's auc: 1\n",
      "[654]\tvalid_0's l1: 0.221893\tvalid_0's l2: 0.0967355\tvalid_0's auc: 1\n",
      "[655]\tvalid_0's l1: 0.221793\tvalid_0's l2: 0.0966481\tvalid_0's auc: 1\n",
      "[656]\tvalid_0's l1: 0.221694\tvalid_0's l2: 0.0965555\tvalid_0's auc: 1\n",
      "[657]\tvalid_0's l1: 0.221524\tvalid_0's l2: 0.0964297\tvalid_0's auc: 1\n",
      "[658]\tvalid_0's l1: 0.221365\tvalid_0's l2: 0.0963025\tvalid_0's auc: 1\n",
      "[659]\tvalid_0's l1: 0.221204\tvalid_0's l2: 0.0961757\tvalid_0's auc: 1\n",
      "[660]\tvalid_0's l1: 0.221061\tvalid_0's l2: 0.0960579\tvalid_0's auc: 1\n",
      "[661]\tvalid_0's l1: 0.220826\tvalid_0's l2: 0.0958812\tvalid_0's auc: 1\n",
      "[662]\tvalid_0's l1: 0.220602\tvalid_0's l2: 0.0957201\tvalid_0's auc: 1\n",
      "[663]\tvalid_0's l1: 0.220369\tvalid_0's l2: 0.0955512\tvalid_0's auc: 1\n",
      "[664]\tvalid_0's l1: 0.220133\tvalid_0's l2: 0.0953721\tvalid_0's auc: 1\n",
      "[665]\tvalid_0's l1: 0.219902\tvalid_0's l2: 0.0951939\tvalid_0's auc: 1\n",
      "[666]\tvalid_0's l1: 0.219691\tvalid_0's l2: 0.095042\tvalid_0's auc: 1\n",
      "[667]\tvalid_0's l1: 0.219501\tvalid_0's l2: 0.0949158\tvalid_0's auc: 1\n",
      "[668]\tvalid_0's l1: 0.219327\tvalid_0's l2: 0.0947898\tvalid_0's auc: 1\n",
      "[669]\tvalid_0's l1: 0.219233\tvalid_0's l2: 0.0947083\tvalid_0's auc: 1\n",
      "[670]\tvalid_0's l1: 0.219006\tvalid_0's l2: 0.0945511\tvalid_0's auc: 1\n",
      "[671]\tvalid_0's l1: 0.218738\tvalid_0's l2: 0.0943671\tvalid_0's auc: 1\n",
      "[672]\tvalid_0's l1: 0.218474\tvalid_0's l2: 0.0941896\tvalid_0's auc: 1\n",
      "[673]\tvalid_0's l1: 0.218375\tvalid_0's l2: 0.0941006\tvalid_0's auc: 1\n",
      "[674]\tvalid_0's l1: 0.21827\tvalid_0's l2: 0.0940189\tvalid_0's auc: 1\n",
      "[675]\tvalid_0's l1: 0.218006\tvalid_0's l2: 0.0938347\tvalid_0's auc: 1\n",
      "[676]\tvalid_0's l1: 0.217743\tvalid_0's l2: 0.0936548\tvalid_0's auc: 1\n",
      "[677]\tvalid_0's l1: 0.217642\tvalid_0's l2: 0.0935687\tvalid_0's auc: 1\n",
      "[678]\tvalid_0's l1: 0.217414\tvalid_0's l2: 0.0934114\tvalid_0's auc: 1\n",
      "[679]\tvalid_0's l1: 0.217189\tvalid_0's l2: 0.0932554\tvalid_0's auc: 1\n",
      "[680]\tvalid_0's l1: 0.216999\tvalid_0's l2: 0.0931066\tvalid_0's auc: 1\n",
      "[681]\tvalid_0's l1: 0.216814\tvalid_0's l2: 0.0929655\tvalid_0's auc: 1\n",
      "[682]\tvalid_0's l1: 0.216495\tvalid_0's l2: 0.0927086\tvalid_0's auc: 1\n",
      "[683]\tvalid_0's l1: 0.216163\tvalid_0's l2: 0.0924471\tvalid_0's auc: 1\n",
      "[684]\tvalid_0's l1: 0.215856\tvalid_0's l2: 0.0922097\tvalid_0's auc: 1\n",
      "[685]\tvalid_0's l1: 0.215672\tvalid_0's l2: 0.0920714\tvalid_0's auc: 1\n",
      "[686]\tvalid_0's l1: 0.215381\tvalid_0's l2: 0.0918631\tvalid_0's auc: 1\n",
      "[687]\tvalid_0's l1: 0.215214\tvalid_0's l2: 0.0917429\tvalid_0's auc: 1\n",
      "[688]\tvalid_0's l1: 0.214898\tvalid_0's l2: 0.0914978\tvalid_0's auc: 1\n",
      "[689]\tvalid_0's l1: 0.214717\tvalid_0's l2: 0.0913693\tvalid_0's auc: 1\n",
      "[690]\tvalid_0's l1: 0.214555\tvalid_0's l2: 0.0912503\tvalid_0's auc: 1\n",
      "[691]\tvalid_0's l1: 0.214234\tvalid_0's l2: 0.0910088\tvalid_0's auc: 1\n",
      "[692]\tvalid_0's l1: 0.213949\tvalid_0's l2: 0.0908068\tvalid_0's auc: 1\n",
      "[693]\tvalid_0's l1: 0.213781\tvalid_0's l2: 0.0906653\tvalid_0's auc: 1\n",
      "[694]\tvalid_0's l1: 0.21352\tvalid_0's l2: 0.0904735\tvalid_0's auc: 1\n",
      "[695]\tvalid_0's l1: 0.213204\tvalid_0's l2: 0.0902366\tvalid_0's auc: 1\n",
      "[696]\tvalid_0's l1: 0.213044\tvalid_0's l2: 0.0900977\tvalid_0's auc: 1\n",
      "[697]\tvalid_0's l1: 0.212814\tvalid_0's l2: 0.0899358\tvalid_0's auc: 1\n",
      "[698]\tvalid_0's l1: 0.212733\tvalid_0's l2: 0.0898587\tvalid_0's auc: 1\n",
      "[699]\tvalid_0's l1: 0.212424\tvalid_0's l2: 0.08963\tvalid_0's auc: 1\n",
      "[700]\tvalid_0's l1: 0.21229\tvalid_0's l2: 0.0895082\tvalid_0's auc: 1\n",
      "[701]\tvalid_0's l1: 0.212186\tvalid_0's l2: 0.0894178\tvalid_0's auc: 1\n",
      "[702]\tvalid_0's l1: 0.212076\tvalid_0's l2: 0.0893428\tvalid_0's auc: 1\n",
      "[703]\tvalid_0's l1: 0.21196\tvalid_0's l2: 0.0892667\tvalid_0's auc: 1\n",
      "[704]\tvalid_0's l1: 0.211834\tvalid_0's l2: 0.089181\tvalid_0's auc: 1\n",
      "[705]\tvalid_0's l1: 0.211721\tvalid_0's l2: 0.0891063\tvalid_0's auc: 1\n",
      "[706]\tvalid_0's l1: 0.211599\tvalid_0's l2: 0.0890228\tvalid_0's auc: 1\n",
      "[707]\tvalid_0's l1: 0.211486\tvalid_0's l2: 0.0889471\tvalid_0's auc: 1\n",
      "[708]\tvalid_0's l1: 0.211401\tvalid_0's l2: 0.0888773\tvalid_0's auc: 1\n",
      "[709]\tvalid_0's l1: 0.211283\tvalid_0's l2: 0.0887963\tvalid_0's auc: 1\n",
      "[710]\tvalid_0's l1: 0.211161\tvalid_0's l2: 0.088708\tvalid_0's auc: 1\n",
      "[711]\tvalid_0's l1: 0.211023\tvalid_0's l2: 0.088602\tvalid_0's auc: 1\n",
      "[712]\tvalid_0's l1: 0.210887\tvalid_0's l2: 0.0884989\tvalid_0's auc: 1\n",
      "[713]\tvalid_0's l1: 0.210742\tvalid_0's l2: 0.0883909\tvalid_0's auc: 1\n",
      "[714]\tvalid_0's l1: 0.210597\tvalid_0's l2: 0.0882818\tvalid_0's auc: 1\n",
      "[715]\tvalid_0's l1: 0.21046\tvalid_0's l2: 0.0881839\tvalid_0's auc: 1\n",
      "[716]\tvalid_0's l1: 0.210352\tvalid_0's l2: 0.0881031\tvalid_0's auc: 1\n",
      "[717]\tvalid_0's l1: 0.21021\tvalid_0's l2: 0.0879954\tvalid_0's auc: 1\n",
      "[718]\tvalid_0's l1: 0.210099\tvalid_0's l2: 0.08792\tvalid_0's auc: 1\n",
      "[719]\tvalid_0's l1: 0.210032\tvalid_0's l2: 0.0878642\tvalid_0's auc: 1\n",
      "[720]\tvalid_0's l1: 0.2099\tvalid_0's l2: 0.0877642\tvalid_0's auc: 1\n",
      "[721]\tvalid_0's l1: 0.209797\tvalid_0's l2: 0.0876899\tvalid_0's auc: 1\n",
      "[722]\tvalid_0's l1: 0.209683\tvalid_0's l2: 0.0876121\tvalid_0's auc: 1\n",
      "[723]\tvalid_0's l1: 0.209585\tvalid_0's l2: 0.0875398\tvalid_0's auc: 1\n",
      "[724]\tvalid_0's l1: 0.209477\tvalid_0's l2: 0.0874658\tvalid_0's auc: 1\n",
      "[725]\tvalid_0's l1: 0.209372\tvalid_0's l2: 0.087394\tvalid_0's auc: 1\n",
      "[726]\tvalid_0's l1: 0.209273\tvalid_0's l2: 0.0873231\tvalid_0's auc: 1\n",
      "[727]\tvalid_0's l1: 0.209159\tvalid_0's l2: 0.0872416\tvalid_0's auc: 1\n",
      "[728]\tvalid_0's l1: 0.209068\tvalid_0's l2: 0.0871802\tvalid_0's auc: 1\n",
      "[729]\tvalid_0's l1: 0.208972\tvalid_0's l2: 0.0871112\tvalid_0's auc: 1\n",
      "[730]\tvalid_0's l1: 0.208884\tvalid_0's l2: 0.0870503\tvalid_0's auc: 1\n",
      "[731]\tvalid_0's l1: 0.208561\tvalid_0's l2: 0.0868261\tvalid_0's auc: 1\n",
      "[732]\tvalid_0's l1: 0.208241\tvalid_0's l2: 0.0866053\tvalid_0's auc: 1\n",
      "[733]\tvalid_0's l1: 0.207922\tvalid_0's l2: 0.0863864\tvalid_0's auc: 1\n",
      "[734]\tvalid_0's l1: 0.207791\tvalid_0's l2: 0.0862876\tvalid_0's auc: 1\n",
      "[735]\tvalid_0's l1: 0.207476\tvalid_0's l2: 0.0860717\tvalid_0's auc: 1\n",
      "[736]\tvalid_0's l1: 0.207162\tvalid_0's l2: 0.0858577\tvalid_0's auc: 1\n",
      "[737]\tvalid_0's l1: 0.206847\tvalid_0's l2: 0.0856453\tvalid_0's auc: 1\n",
      "[738]\tvalid_0's l1: 0.206751\tvalid_0's l2: 0.0855606\tvalid_0's auc: 1\n",
      "[739]\tvalid_0's l1: 0.206439\tvalid_0's l2: 0.0853479\tvalid_0's auc: 1\n",
      "[740]\tvalid_0's l1: 0.206131\tvalid_0's l2: 0.085139\tvalid_0's auc: 1\n",
      "[741]\tvalid_0's l1: 0.206029\tvalid_0's l2: 0.0850738\tvalid_0's auc: 1\n",
      "[742]\tvalid_0's l1: 0.205925\tvalid_0's l2: 0.0850052\tvalid_0's auc: 1\n",
      "[743]\tvalid_0's l1: 0.205809\tvalid_0's l2: 0.0849241\tvalid_0's auc: 1\n",
      "[744]\tvalid_0's l1: 0.205704\tvalid_0's l2: 0.0848559\tvalid_0's auc: 1\n",
      "[745]\tvalid_0's l1: 0.205573\tvalid_0's l2: 0.0847678\tvalid_0's auc: 1\n",
      "[746]\tvalid_0's l1: 0.20542\tvalid_0's l2: 0.084671\tvalid_0's auc: 1\n",
      "[747]\tvalid_0's l1: 0.205263\tvalid_0's l2: 0.0845633\tvalid_0's auc: 1\n",
      "[748]\tvalid_0's l1: 0.205076\tvalid_0's l2: 0.0844345\tvalid_0's auc: 1\n",
      "[749]\tvalid_0's l1: 0.204953\tvalid_0's l2: 0.0843512\tvalid_0's auc: 1\n",
      "[750]\tvalid_0's l1: 0.204794\tvalid_0's l2: 0.0842441\tvalid_0's auc: 1\n",
      "[751]\tvalid_0's l1: 0.20473\tvalid_0's l2: 0.0841909\tvalid_0's auc: 1\n",
      "[752]\tvalid_0's l1: 0.204599\tvalid_0's l2: 0.0840935\tvalid_0's auc: 1\n",
      "[753]\tvalid_0's l1: 0.204511\tvalid_0's l2: 0.084015\tvalid_0's auc: 1\n",
      "[754]\tvalid_0's l1: 0.204384\tvalid_0's l2: 0.0839239\tvalid_0's auc: 1\n",
      "[755]\tvalid_0's l1: 0.204301\tvalid_0's l2: 0.0838478\tvalid_0's auc: 1\n",
      "[756]\tvalid_0's l1: 0.204185\tvalid_0's l2: 0.0837588\tvalid_0's auc: 1\n",
      "[757]\tvalid_0's l1: 0.203963\tvalid_0's l2: 0.0836037\tvalid_0's auc: 1\n",
      "[758]\tvalid_0's l1: 0.20386\tvalid_0's l2: 0.0835206\tvalid_0's auc: 1\n",
      "[759]\tvalid_0's l1: 0.20377\tvalid_0's l2: 0.0834505\tvalid_0's auc: 1\n",
      "[760]\tvalid_0's l1: 0.203559\tvalid_0's l2: 0.083312\tvalid_0's auc: 1\n",
      "[761]\tvalid_0's l1: 0.2033\tvalid_0's l2: 0.0831288\tvalid_0's auc: 1\n",
      "[762]\tvalid_0's l1: 0.203043\tvalid_0's l2: 0.0829487\tvalid_0's auc: 1\n",
      "[763]\tvalid_0's l1: 0.202788\tvalid_0's l2: 0.0827656\tvalid_0's auc: 1\n",
      "[764]\tvalid_0's l1: 0.20254\tvalid_0's l2: 0.0825865\tvalid_0's auc: 1\n",
      "[765]\tvalid_0's l1: 0.202286\tvalid_0's l2: 0.0824101\tvalid_0's auc: 1\n",
      "[766]\tvalid_0's l1: 0.202035\tvalid_0's l2: 0.0822254\tvalid_0's auc: 1\n",
      "[767]\tvalid_0's l1: 0.201789\tvalid_0's l2: 0.0820512\tvalid_0's auc: 1\n",
      "[768]\tvalid_0's l1: 0.201645\tvalid_0's l2: 0.0819617\tvalid_0's auc: 1\n",
      "[769]\tvalid_0's l1: 0.201546\tvalid_0's l2: 0.0818878\tvalid_0's auc: 1\n",
      "[770]\tvalid_0's l1: 0.201343\tvalid_0's l2: 0.0817422\tvalid_0's auc: 1\n",
      "[771]\tvalid_0's l1: 0.20124\tvalid_0's l2: 0.081673\tvalid_0's auc: 1\n",
      "[772]\tvalid_0's l1: 0.201139\tvalid_0's l2: 0.0816033\tvalid_0's auc: 1\n",
      "[773]\tvalid_0's l1: 0.201041\tvalid_0's l2: 0.0815347\tvalid_0's auc: 1\n",
      "[774]\tvalid_0's l1: 0.200976\tvalid_0's l2: 0.0814814\tvalid_0's auc: 1\n",
      "[775]\tvalid_0's l1: 0.200853\tvalid_0's l2: 0.0814077\tvalid_0's auc: 1\n",
      "[776]\tvalid_0's l1: 0.20076\tvalid_0's l2: 0.0813445\tvalid_0's auc: 1\n",
      "[777]\tvalid_0's l1: 0.200693\tvalid_0's l2: 0.0812895\tvalid_0's auc: 1\n",
      "[778]\tvalid_0's l1: 0.200471\tvalid_0's l2: 0.0811504\tvalid_0's auc: 1\n",
      "[779]\tvalid_0's l1: 0.200387\tvalid_0's l2: 0.0810986\tvalid_0's auc: 1\n",
      "[780]\tvalid_0's l1: 0.200261\tvalid_0's l2: 0.0810233\tvalid_0's auc: 1\n",
      "[781]\tvalid_0's l1: 0.200099\tvalid_0's l2: 0.0809225\tvalid_0's auc: 1\n",
      "[782]\tvalid_0's l1: 0.200022\tvalid_0's l2: 0.080865\tvalid_0's auc: 1\n",
      "[783]\tvalid_0's l1: 0.199843\tvalid_0's l2: 0.0807479\tvalid_0's auc: 1\n",
      "[784]\tvalid_0's l1: 0.199779\tvalid_0's l2: 0.0806918\tvalid_0's auc: 1\n",
      "[785]\tvalid_0's l1: 0.199602\tvalid_0's l2: 0.0805803\tvalid_0's auc: 1\n",
      "[786]\tvalid_0's l1: 0.199543\tvalid_0's l2: 0.0805266\tvalid_0's auc: 1\n",
      "[787]\tvalid_0's l1: 0.199394\tvalid_0's l2: 0.0804334\tvalid_0's auc: 1\n",
      "[788]\tvalid_0's l1: 0.199302\tvalid_0's l2: 0.0803636\tvalid_0's auc: 1\n",
      "[789]\tvalid_0's l1: 0.199138\tvalid_0's l2: 0.0802622\tvalid_0's auc: 1\n",
      "[790]\tvalid_0's l1: 0.199047\tvalid_0's l2: 0.0801976\tvalid_0's auc: 1\n",
      "[791]\tvalid_0's l1: 0.198895\tvalid_0's l2: 0.0801076\tvalid_0's auc: 1\n",
      "[792]\tvalid_0's l1: 0.198741\tvalid_0's l2: 0.0800169\tvalid_0's auc: 1\n",
      "[793]\tvalid_0's l1: 0.198597\tvalid_0's l2: 0.0799328\tvalid_0's auc: 1\n",
      "[794]\tvalid_0's l1: 0.19841\tvalid_0's l2: 0.0798159\tvalid_0's auc: 1\n",
      "[795]\tvalid_0's l1: 0.198205\tvalid_0's l2: 0.0796908\tvalid_0's auc: 1\n",
      "[796]\tvalid_0's l1: 0.197949\tvalid_0's l2: 0.0795059\tvalid_0's auc: 1\n",
      "[797]\tvalid_0's l1: 0.197743\tvalid_0's l2: 0.0793792\tvalid_0's auc: 1\n",
      "[798]\tvalid_0's l1: 0.197492\tvalid_0's l2: 0.0791984\tvalid_0's auc: 1\n",
      "[799]\tvalid_0's l1: 0.197349\tvalid_0's l2: 0.0791136\tvalid_0's auc: 1\n",
      "[800]\tvalid_0's l1: 0.197114\tvalid_0's l2: 0.0789427\tvalid_0's auc: 1\n"
     ]
    },
    {
     "name": "stdout",
     "output_type": "stream",
     "text": [
      "[801]\tvalid_0's l1: 0.196866\tvalid_0's l2: 0.0787693\tvalid_0's auc: 1\n",
      "[802]\tvalid_0's l1: 0.196786\tvalid_0's l2: 0.0786962\tvalid_0's auc: 1\n",
      "[803]\tvalid_0's l1: 0.196537\tvalid_0's l2: 0.0785245\tvalid_0's auc: 1\n",
      "[804]\tvalid_0's l1: 0.196291\tvalid_0's l2: 0.0783471\tvalid_0's auc: 1\n",
      "[805]\tvalid_0's l1: 0.196063\tvalid_0's l2: 0.0781946\tvalid_0's auc: 1\n",
      "[806]\tvalid_0's l1: 0.195826\tvalid_0's l2: 0.0780281\tvalid_0's auc: 1\n",
      "[807]\tvalid_0's l1: 0.195586\tvalid_0's l2: 0.0778603\tvalid_0's auc: 1\n",
      "[808]\tvalid_0's l1: 0.195377\tvalid_0's l2: 0.07772\tvalid_0's auc: 1\n",
      "[809]\tvalid_0's l1: 0.195284\tvalid_0's l2: 0.0776448\tvalid_0's auc: 1\n",
      "[810]\tvalid_0's l1: 0.195062\tvalid_0's l2: 0.077495\tvalid_0's auc: 1\n",
      "[811]\tvalid_0's l1: 0.194938\tvalid_0's l2: 0.0774122\tvalid_0's auc: 1\n",
      "[812]\tvalid_0's l1: 0.194813\tvalid_0's l2: 0.0773288\tvalid_0's auc: 1\n",
      "[813]\tvalid_0's l1: 0.194691\tvalid_0's l2: 0.0772475\tvalid_0's auc: 1\n",
      "[814]\tvalid_0's l1: 0.194614\tvalid_0's l2: 0.07719\tvalid_0's auc: 1\n",
      "[815]\tvalid_0's l1: 0.194489\tvalid_0's l2: 0.0771048\tvalid_0's auc: 1\n",
      "[816]\tvalid_0's l1: 0.194374\tvalid_0's l2: 0.0770243\tvalid_0's auc: 1\n",
      "[817]\tvalid_0's l1: 0.194311\tvalid_0's l2: 0.0769727\tvalid_0's auc: 1\n",
      "[818]\tvalid_0's l1: 0.194183\tvalid_0's l2: 0.0768842\tvalid_0's auc: 1\n",
      "[819]\tvalid_0's l1: 0.194059\tvalid_0's l2: 0.0767997\tvalid_0's auc: 1\n",
      "[820]\tvalid_0's l1: 0.193985\tvalid_0's l2: 0.0767425\tvalid_0's auc: 1\n",
      "[821]\tvalid_0's l1: 0.193869\tvalid_0's l2: 0.0766497\tvalid_0's auc: 1\n",
      "[822]\tvalid_0's l1: 0.193748\tvalid_0's l2: 0.0765657\tvalid_0's auc: 1\n",
      "[823]\tvalid_0's l1: 0.193626\tvalid_0's l2: 0.0764729\tvalid_0's auc: 1\n",
      "[824]\tvalid_0's l1: 0.19352\tvalid_0's l2: 0.0763866\tvalid_0's auc: 1\n",
      "[825]\tvalid_0's l1: 0.193406\tvalid_0's l2: 0.0762982\tvalid_0's auc: 1\n",
      "[826]\tvalid_0's l1: 0.193331\tvalid_0's l2: 0.0762399\tvalid_0's auc: 1\n",
      "[827]\tvalid_0's l1: 0.193218\tvalid_0's l2: 0.0761524\tvalid_0's auc: 1\n",
      "[828]\tvalid_0's l1: 0.193147\tvalid_0's l2: 0.0760957\tvalid_0's auc: 1\n",
      "[829]\tvalid_0's l1: 0.193042\tvalid_0's l2: 0.0760129\tvalid_0's auc: 1\n",
      "[830]\tvalid_0's l1: 0.19294\tvalid_0's l2: 0.0759322\tvalid_0's auc: 1\n",
      "[831]\tvalid_0's l1: 0.192877\tvalid_0's l2: 0.0758716\tvalid_0's auc: 1\n",
      "[832]\tvalid_0's l1: 0.19281\tvalid_0's l2: 0.0758072\tvalid_0's auc: 1\n",
      "[833]\tvalid_0's l1: 0.19268\tvalid_0's l2: 0.0757186\tvalid_0's auc: 1\n",
      "[834]\tvalid_0's l1: 0.192627\tvalid_0's l2: 0.0756672\tvalid_0's auc: 1\n",
      "[835]\tvalid_0's l1: 0.192571\tvalid_0's l2: 0.0756172\tvalid_0's auc: 1\n",
      "[836]\tvalid_0's l1: 0.192435\tvalid_0's l2: 0.0755257\tvalid_0's auc: 1\n",
      "[837]\tvalid_0's l1: 0.192386\tvalid_0's l2: 0.0754861\tvalid_0's auc: 1\n",
      "[838]\tvalid_0's l1: 0.192331\tvalid_0's l2: 0.0754324\tvalid_0's auc: 1\n",
      "[839]\tvalid_0's l1: 0.192182\tvalid_0's l2: 0.075336\tvalid_0's auc: 1\n",
      "[840]\tvalid_0's l1: 0.192034\tvalid_0's l2: 0.0752387\tvalid_0's auc: 1\n",
      "[841]\tvalid_0's l1: 0.191972\tvalid_0's l2: 0.0751972\tvalid_0's auc: 1\n",
      "[842]\tvalid_0's l1: 0.191921\tvalid_0's l2: 0.0751653\tvalid_0's auc: 1\n",
      "[843]\tvalid_0's l1: 0.191865\tvalid_0's l2: 0.0751316\tvalid_0's auc: 1\n",
      "[844]\tvalid_0's l1: 0.191816\tvalid_0's l2: 0.0751003\tvalid_0's auc: 1\n",
      "[845]\tvalid_0's l1: 0.191754\tvalid_0's l2: 0.0750614\tvalid_0's auc: 1\n",
      "[846]\tvalid_0's l1: 0.191702\tvalid_0's l2: 0.0750307\tvalid_0's auc: 1\n",
      "[847]\tvalid_0's l1: 0.191646\tvalid_0's l2: 0.0749967\tvalid_0's auc: 1\n",
      "[848]\tvalid_0's l1: 0.191582\tvalid_0's l2: 0.0749533\tvalid_0's auc: 1\n",
      "[849]\tvalid_0's l1: 0.191517\tvalid_0's l2: 0.0749179\tvalid_0's auc: 1\n",
      "[850]\tvalid_0's l1: 0.19146\tvalid_0's l2: 0.0748843\tvalid_0's auc: 1\n",
      "[851]\tvalid_0's l1: 0.191399\tvalid_0's l2: 0.0748451\tvalid_0's auc: 1\n",
      "[852]\tvalid_0's l1: 0.191333\tvalid_0's l2: 0.0748059\tvalid_0's auc: 1\n",
      "[853]\tvalid_0's l1: 0.191263\tvalid_0's l2: 0.0747581\tvalid_0's auc: 1\n",
      "[854]\tvalid_0's l1: 0.191202\tvalid_0's l2: 0.0747206\tvalid_0's auc: 1\n",
      "[855]\tvalid_0's l1: 0.191139\tvalid_0's l2: 0.0746783\tvalid_0's auc: 1\n",
      "[856]\tvalid_0's l1: 0.191082\tvalid_0's l2: 0.0746424\tvalid_0's auc: 1\n",
      "[857]\tvalid_0's l1: 0.191004\tvalid_0's l2: 0.0745969\tvalid_0's auc: 1\n",
      "[858]\tvalid_0's l1: 0.190923\tvalid_0's l2: 0.0745502\tvalid_0's auc: 1\n",
      "[859]\tvalid_0's l1: 0.190846\tvalid_0's l2: 0.074511\tvalid_0's auc: 1\n",
      "[860]\tvalid_0's l1: 0.19079\tvalid_0's l2: 0.0744678\tvalid_0's auc: 1\n",
      "[861]\tvalid_0's l1: 0.1906\tvalid_0's l2: 0.0743579\tvalid_0's auc: 1\n",
      "[862]\tvalid_0's l1: 0.190405\tvalid_0's l2: 0.0742493\tvalid_0's auc: 1\n",
      "[863]\tvalid_0's l1: 0.190213\tvalid_0's l2: 0.0741382\tvalid_0's auc: 1\n",
      "[864]\tvalid_0's l1: 0.190039\tvalid_0's l2: 0.074041\tvalid_0's auc: 1\n",
      "[865]\tvalid_0's l1: 0.189877\tvalid_0's l2: 0.0739451\tvalid_0's auc: 1\n",
      "[866]\tvalid_0's l1: 0.189814\tvalid_0's l2: 0.0738941\tvalid_0's auc: 1\n",
      "[867]\tvalid_0's l1: 0.189629\tvalid_0's l2: 0.0737862\tvalid_0's auc: 1\n",
      "[868]\tvalid_0's l1: 0.189564\tvalid_0's l2: 0.073741\tvalid_0's auc: 1\n",
      "[869]\tvalid_0's l1: 0.189416\tvalid_0's l2: 0.0736519\tvalid_0's auc: 1\n",
      "[870]\tvalid_0's l1: 0.189231\tvalid_0's l2: 0.0735467\tvalid_0's auc: 1\n",
      "[871]\tvalid_0's l1: 0.189184\tvalid_0's l2: 0.0735151\tvalid_0's auc: 1\n",
      "[872]\tvalid_0's l1: 0.189139\tvalid_0's l2: 0.0734845\tvalid_0's auc: 1\n",
      "[873]\tvalid_0's l1: 0.18909\tvalid_0's l2: 0.0734546\tvalid_0's auc: 1\n",
      "[874]\tvalid_0's l1: 0.189046\tvalid_0's l2: 0.0734158\tvalid_0's auc: 1\n",
      "[875]\tvalid_0's l1: 0.18894\tvalid_0's l2: 0.0733506\tvalid_0's auc: 1\n",
      "[876]\tvalid_0's l1: 0.188841\tvalid_0's l2: 0.0732902\tvalid_0's auc: 1\n",
      "[877]\tvalid_0's l1: 0.188795\tvalid_0's l2: 0.0732598\tvalid_0's auc: 1\n",
      "[878]\tvalid_0's l1: 0.188747\tvalid_0's l2: 0.0732215\tvalid_0's auc: 1\n",
      "[879]\tvalid_0's l1: 0.188635\tvalid_0's l2: 0.0731552\tvalid_0's auc: 1\n",
      "[880]\tvalid_0's l1: 0.188517\tvalid_0's l2: 0.0730792\tvalid_0's auc: 1\n",
      "[881]\tvalid_0's l1: 0.188469\tvalid_0's l2: 0.0730403\tvalid_0's auc: 1\n",
      "[882]\tvalid_0's l1: 0.188388\tvalid_0's l2: 0.0729902\tvalid_0's auc: 1\n",
      "[883]\tvalid_0's l1: 0.18833\tvalid_0's l2: 0.072948\tvalid_0's auc: 1\n",
      "[884]\tvalid_0's l1: 0.18828\tvalid_0's l2: 0.0729086\tvalid_0's auc: 1\n",
      "[885]\tvalid_0's l1: 0.188214\tvalid_0's l2: 0.0728615\tvalid_0's auc: 1\n",
      "[886]\tvalid_0's l1: 0.188146\tvalid_0's l2: 0.0728069\tvalid_0's auc: 1\n",
      "[887]\tvalid_0's l1: 0.188091\tvalid_0's l2: 0.0727585\tvalid_0's auc: 1\n",
      "[888]\tvalid_0's l1: 0.187968\tvalid_0's l2: 0.072682\tvalid_0's auc: 1\n",
      "[889]\tvalid_0's l1: 0.187875\tvalid_0's l2: 0.0726211\tvalid_0's auc: 1\n",
      "[890]\tvalid_0's l1: 0.187825\tvalid_0's l2: 0.072578\tvalid_0's auc: 1\n",
      "[891]\tvalid_0's l1: 0.187608\tvalid_0's l2: 0.0724465\tvalid_0's auc: 1\n",
      "[892]\tvalid_0's l1: 0.18739\tvalid_0's l2: 0.072317\tvalid_0's auc: 1\n",
      "[893]\tvalid_0's l1: 0.187164\tvalid_0's l2: 0.0721824\tvalid_0's auc: 1\n",
      "[894]\tvalid_0's l1: 0.186953\tvalid_0's l2: 0.072057\tvalid_0's auc: 1\n",
      "[895]\tvalid_0's l1: 0.186773\tvalid_0's l2: 0.0719394\tvalid_0's auc: 1\n",
      "[896]\tvalid_0's l1: 0.186561\tvalid_0's l2: 0.0718091\tvalid_0's auc: 1\n",
      "[897]\tvalid_0's l1: 0.186367\tvalid_0's l2: 0.0716957\tvalid_0's auc: 1\n",
      "[898]\tvalid_0's l1: 0.186157\tvalid_0's l2: 0.071566\tvalid_0's auc: 1\n",
      "[899]\tvalid_0's l1: 0.185957\tvalid_0's l2: 0.0714404\tvalid_0's auc: 1\n",
      "[900]\tvalid_0's l1: 0.18591\tvalid_0's l2: 0.0714076\tvalid_0's auc: 1\n",
      "[901]\tvalid_0's l1: 0.185846\tvalid_0's l2: 0.0713607\tvalid_0's auc: 1\n",
      "[902]\tvalid_0's l1: 0.185759\tvalid_0's l2: 0.0713163\tvalid_0's auc: 1\n",
      "[903]\tvalid_0's l1: 0.185567\tvalid_0's l2: 0.0711991\tvalid_0's auc: 1\n",
      "[904]\tvalid_0's l1: 0.185512\tvalid_0's l2: 0.0711608\tvalid_0's auc: 1\n",
      "[905]\tvalid_0's l1: 0.185449\tvalid_0's l2: 0.0711171\tvalid_0's auc: 1\n",
      "[906]\tvalid_0's l1: 0.185382\tvalid_0's l2: 0.0710671\tvalid_0's auc: 1\n",
      "[907]\tvalid_0's l1: 0.185311\tvalid_0's l2: 0.0710177\tvalid_0's auc: 1\n",
      "[908]\tvalid_0's l1: 0.185205\tvalid_0's l2: 0.0709498\tvalid_0's auc: 1\n",
      "[909]\tvalid_0's l1: 0.185003\tvalid_0's l2: 0.0708294\tvalid_0's auc: 1\n",
      "[910]\tvalid_0's l1: 0.18493\tvalid_0's l2: 0.0707794\tvalid_0's auc: 1\n",
      "[911]\tvalid_0's l1: 0.184879\tvalid_0's l2: 0.0707428\tvalid_0's auc: 1\n",
      "[912]\tvalid_0's l1: 0.184835\tvalid_0's l2: 0.0707078\tvalid_0's auc: 1\n",
      "[913]\tvalid_0's l1: 0.184782\tvalid_0's l2: 0.0706665\tvalid_0's auc: 1\n",
      "[914]\tvalid_0's l1: 0.184733\tvalid_0's l2: 0.0706313\tvalid_0's auc: 1\n",
      "[915]\tvalid_0's l1: 0.184695\tvalid_0's l2: 0.0706021\tvalid_0's auc: 1\n",
      "[916]\tvalid_0's l1: 0.184649\tvalid_0's l2: 0.0705664\tvalid_0's auc: 1\n",
      "[917]\tvalid_0's l1: 0.184604\tvalid_0's l2: 0.0705358\tvalid_0's auc: 1\n",
      "[918]\tvalid_0's l1: 0.184554\tvalid_0's l2: 0.0705021\tvalid_0's auc: 1\n",
      "[919]\tvalid_0's l1: 0.18451\tvalid_0's l2: 0.0704651\tvalid_0's auc: 1\n",
      "[920]\tvalid_0's l1: 0.184459\tvalid_0's l2: 0.0704242\tvalid_0's auc: 1\n",
      "[921]\tvalid_0's l1: 0.184337\tvalid_0's l2: 0.0703457\tvalid_0's auc: 1\n",
      "[922]\tvalid_0's l1: 0.18415\tvalid_0's l2: 0.0702151\tvalid_0's auc: 1\n",
      "[923]\tvalid_0's l1: 0.183975\tvalid_0's l2: 0.0701018\tvalid_0's auc: 1\n",
      "[924]\tvalid_0's l1: 0.183803\tvalid_0's l2: 0.069986\tvalid_0's auc: 1\n",
      "[925]\tvalid_0's l1: 0.183715\tvalid_0's l2: 0.0699291\tvalid_0's auc: 1\n",
      "[926]\tvalid_0's l1: 0.183541\tvalid_0's l2: 0.069814\tvalid_0's auc: 1\n",
      "[927]\tvalid_0's l1: 0.183407\tvalid_0's l2: 0.0697253\tvalid_0's auc: 1\n",
      "[928]\tvalid_0's l1: 0.183222\tvalid_0's l2: 0.069605\tvalid_0's auc: 1\n",
      "[929]\tvalid_0's l1: 0.183181\tvalid_0's l2: 0.0695709\tvalid_0's auc: 1\n",
      "[930]\tvalid_0's l1: 0.183048\tvalid_0's l2: 0.0694812\tvalid_0's auc: 1\n",
      "[931]\tvalid_0's l1: 0.182893\tvalid_0's l2: 0.0693891\tvalid_0's auc: 1\n",
      "[932]\tvalid_0's l1: 0.182731\tvalid_0's l2: 0.0692898\tvalid_0's auc: 1\n",
      "[933]\tvalid_0's l1: 0.182574\tvalid_0's l2: 0.0691975\tvalid_0's auc: 1\n",
      "[934]\tvalid_0's l1: 0.182404\tvalid_0's l2: 0.0690885\tvalid_0's auc: 1\n",
      "[935]\tvalid_0's l1: 0.182245\tvalid_0's l2: 0.0689921\tvalid_0's auc: 1\n",
      "[936]\tvalid_0's l1: 0.182188\tvalid_0's l2: 0.0689453\tvalid_0's auc: 1\n",
      "[937]\tvalid_0's l1: 0.182131\tvalid_0's l2: 0.0688985\tvalid_0's auc: 1\n",
      "[938]\tvalid_0's l1: 0.181979\tvalid_0's l2: 0.068805\tvalid_0's auc: 1\n",
      "[939]\tvalid_0's l1: 0.181823\tvalid_0's l2: 0.0687115\tvalid_0's auc: 1\n",
      "[940]\tvalid_0's l1: 0.181764\tvalid_0's l2: 0.0686661\tvalid_0's auc: 1\n",
      "[941]\tvalid_0's l1: 0.1816\tvalid_0's l2: 0.0685623\tvalid_0's auc: 1\n",
      "[942]\tvalid_0's l1: 0.181552\tvalid_0's l2: 0.068532\tvalid_0's auc: 1\n",
      "[943]\tvalid_0's l1: 0.181365\tvalid_0's l2: 0.0684244\tvalid_0's auc: 1\n",
      "[944]\tvalid_0's l1: 0.181179\tvalid_0's l2: 0.0683155\tvalid_0's auc: 1\n",
      "[945]\tvalid_0's l1: 0.181128\tvalid_0's l2: 0.0682829\tvalid_0's auc: 1\n",
      "[946]\tvalid_0's l1: 0.180945\tvalid_0's l2: 0.0681754\tvalid_0's auc: 1\n",
      "[947]\tvalid_0's l1: 0.180766\tvalid_0's l2: 0.0680717\tvalid_0's auc: 1\n",
      "[948]\tvalid_0's l1: 0.180588\tvalid_0's l2: 0.0679692\tvalid_0's auc: 1\n",
      "[949]\tvalid_0's l1: 0.180529\tvalid_0's l2: 0.0679249\tvalid_0's auc: 1\n",
      "[950]\tvalid_0's l1: 0.180487\tvalid_0's l2: 0.0678949\tvalid_0's auc: 1\n",
      "[951]\tvalid_0's l1: 0.180453\tvalid_0's l2: 0.0678644\tvalid_0's auc: 1\n",
      "[952]\tvalid_0's l1: 0.180422\tvalid_0's l2: 0.0678354\tvalid_0's auc: 1\n",
      "[953]\tvalid_0's l1: 0.18039\tvalid_0's l2: 0.0678056\tvalid_0's auc: 1\n",
      "[954]\tvalid_0's l1: 0.180359\tvalid_0's l2: 0.0677823\tvalid_0's auc: 1\n",
      "[955]\tvalid_0's l1: 0.180319\tvalid_0's l2: 0.0677475\tvalid_0's auc: 1\n",
      "[956]\tvalid_0's l1: 0.180292\tvalid_0's l2: 0.0677203\tvalid_0's auc: 1\n",
      "[957]\tvalid_0's l1: 0.180259\tvalid_0's l2: 0.067688\tvalid_0's auc: 1\n",
      "[958]\tvalid_0's l1: 0.180224\tvalid_0's l2: 0.0676618\tvalid_0's auc: 1\n",
      "[959]\tvalid_0's l1: 0.180193\tvalid_0's l2: 0.0676323\tvalid_0's auc: 1\n",
      "[960]\tvalid_0's l1: 0.18017\tvalid_0's l2: 0.0676052\tvalid_0's auc: 1\n",
      "[961]\tvalid_0's l1: 0.180061\tvalid_0's l2: 0.0675338\tvalid_0's auc: 1\n",
      "[962]\tvalid_0's l1: 0.179941\tvalid_0's l2: 0.0674635\tvalid_0's auc: 1\n",
      "[963]\tvalid_0's l1: 0.179833\tvalid_0's l2: 0.0673934\tvalid_0's auc: 1\n",
      "[964]\tvalid_0's l1: 0.179723\tvalid_0's l2: 0.0673335\tvalid_0's auc: 1\n",
      "[965]\tvalid_0's l1: 0.179617\tvalid_0's l2: 0.0672679\tvalid_0's auc: 1\n",
      "[966]\tvalid_0's l1: 0.179582\tvalid_0's l2: 0.0672305\tvalid_0's auc: 1\n",
      "[967]\tvalid_0's l1: 0.179482\tvalid_0's l2: 0.0671672\tvalid_0's auc: 1\n",
      "[968]\tvalid_0's l1: 0.179379\tvalid_0's l2: 0.0671067\tvalid_0's auc: 1\n",
      "[969]\tvalid_0's l1: 0.179257\tvalid_0's l2: 0.0670292\tvalid_0's auc: 1\n",
      "[970]\tvalid_0's l1: 0.179168\tvalid_0's l2: 0.06697\tvalid_0's auc: 1\n"
     ]
    },
    {
     "name": "stdout",
     "output_type": "stream",
     "text": [
      "[971]\tvalid_0's l1: 0.179026\tvalid_0's l2: 0.0668912\tvalid_0's auc: 1\n",
      "[972]\tvalid_0's l1: 0.178862\tvalid_0's l2: 0.0667924\tvalid_0's auc: 1\n",
      "[973]\tvalid_0's l1: 0.178699\tvalid_0's l2: 0.066696\tvalid_0's auc: 1\n",
      "[974]\tvalid_0's l1: 0.178651\tvalid_0's l2: 0.0666587\tvalid_0's auc: 1\n",
      "[975]\tvalid_0's l1: 0.178482\tvalid_0's l2: 0.0665619\tvalid_0's auc: 1\n",
      "[976]\tvalid_0's l1: 0.178325\tvalid_0's l2: 0.0664675\tvalid_0's auc: 1\n",
      "[977]\tvalid_0's l1: 0.178169\tvalid_0's l2: 0.0663758\tvalid_0's auc: 1\n",
      "[978]\tvalid_0's l1: 0.178023\tvalid_0's l2: 0.066287\tvalid_0's auc: 1\n",
      "[979]\tvalid_0's l1: 0.17787\tvalid_0's l2: 0.0661992\tvalid_0's auc: 1\n",
      "[980]\tvalid_0's l1: 0.177716\tvalid_0's l2: 0.0661081\tvalid_0's auc: 1\n",
      "[981]\tvalid_0's l1: 0.177646\tvalid_0's l2: 0.0660677\tvalid_0's auc: 1\n",
      "[982]\tvalid_0's l1: 0.177584\tvalid_0's l2: 0.0660339\tvalid_0's auc: 1\n",
      "[983]\tvalid_0's l1: 0.177542\tvalid_0's l2: 0.0660085\tvalid_0's auc: 1\n",
      "[984]\tvalid_0's l1: 0.17738\tvalid_0's l2: 0.0659146\tvalid_0's auc: 1\n",
      "[985]\tvalid_0's l1: 0.177223\tvalid_0's l2: 0.0658232\tvalid_0's auc: 1\n",
      "[986]\tvalid_0's l1: 0.177145\tvalid_0's l2: 0.0657798\tvalid_0's auc: 1\n",
      "[987]\tvalid_0's l1: 0.17709\tvalid_0's l2: 0.0657496\tvalid_0's auc: 1\n",
      "[988]\tvalid_0's l1: 0.177054\tvalid_0's l2: 0.0657239\tvalid_0's auc: 1\n",
      "[989]\tvalid_0's l1: 0.176892\tvalid_0's l2: 0.0656189\tvalid_0's auc: 1\n",
      "[990]\tvalid_0's l1: 0.176733\tvalid_0's l2: 0.0655266\tvalid_0's auc: 1\n",
      "[991]\tvalid_0's l1: 0.176668\tvalid_0's l2: 0.0654806\tvalid_0's auc: 1\n",
      "[992]\tvalid_0's l1: 0.176613\tvalid_0's l2: 0.0654394\tvalid_0's auc: 1\n",
      "[993]\tvalid_0's l1: 0.176565\tvalid_0's l2: 0.0654052\tvalid_0's auc: 1\n",
      "[994]\tvalid_0's l1: 0.176515\tvalid_0's l2: 0.0653692\tvalid_0's auc: 1\n",
      "[995]\tvalid_0's l1: 0.176466\tvalid_0's l2: 0.0653304\tvalid_0's auc: 1\n",
      "[996]\tvalid_0's l1: 0.176422\tvalid_0's l2: 0.0652986\tvalid_0's auc: 1\n",
      "[997]\tvalid_0's l1: 0.176371\tvalid_0's l2: 0.0652602\tvalid_0's auc: 1\n",
      "[998]\tvalid_0's l1: 0.176336\tvalid_0's l2: 0.0652305\tvalid_0's auc: 1\n",
      "[999]\tvalid_0's l1: 0.176295\tvalid_0's l2: 0.0651972\tvalid_0's auc: 1\n",
      "[1000]\tvalid_0's l1: 0.17624\tvalid_0's l2: 0.0651599\tvalid_0's auc: 1\n",
      "[1001]\tvalid_0's l1: 0.176073\tvalid_0's l2: 0.0650516\tvalid_0's auc: 1\n",
      "Early stopping, best iteration is:\n",
      "[1]\tvalid_0's l1: 1.14415\tvalid_0's l2: 1.88379\tvalid_0's auc: 1\n"
     ]
    },
    {
     "data": {
      "text/plain": [
       "LGBMRegressor(bagging_fraction=0.7, bagging_freq=10, feature_fraction=0.9,\n",
       "              learning_rate=0.005, metric=['l2', 'auc'], n_estimators=1000,\n",
       "              num_iterations=100000, objective='regression', task='train',\n",
       "              verbose=0)"
      ]
     },
     "execution_count": 335,
     "metadata": {},
     "output_type": "execute_result"
    }
   ],
   "source": [
    "lgbm.fit(X_train, y_train,\n",
    "        eval_set=[(X_test, y_test)],\n",
    "        eval_metric='l1',\n",
    "        early_stopping_rounds=1000)"
   ]
  },
  {
   "cell_type": "code",
   "execution_count": 333,
   "metadata": {
    "ExecuteTime": {
     "end_time": "2020-07-03T09:00:50.544138Z",
     "start_time": "2020-07-03T09:00:50.470367Z"
    },
    "hidden": true
   },
   "outputs": [],
   "source": [
    "y_pred = lgbm.predict(X_train, num_iteration=lgbm.best_iteration_)"
   ]
  },
  {
   "cell_type": "code",
   "execution_count": 334,
   "metadata": {
    "ExecuteTime": {
     "end_time": "2020-07-03T09:00:51.006995Z",
     "start_time": "2020-07-03T09:00:50.965136Z"
    },
    "hidden": true
   },
   "outputs": [
    {
     "name": "stdout",
     "output_type": "stream",
     "text": [
      "RMSLE Value For LGB:  1.3396814112544462\n"
     ]
    }
   ],
   "source": [
    "print (\"RMSLE Value For LGB: \",rmsle(np.exp(y_train),np.exp(y_pred),False))"
   ]
  },
  {
   "cell_type": "markdown",
   "metadata": {},
   "source": [
    "## XGB"
   ]
  },
  {
   "cell_type": "code",
   "execution_count": 393,
   "metadata": {
    "ExecuteTime": {
     "end_time": "2020-07-03T10:46:38.054964Z",
     "start_time": "2020-07-03T10:43:30.348797Z"
    }
   },
   "outputs": [
    {
     "name": "stdout",
     "output_type": "stream",
     "text": [
      "RMSLE Value For Gradient Boost:  0.09500661291738316\n"
     ]
    }
   ],
   "source": [
    "from sklearn.ensemble import GradientBoostingRegressor\n",
    "\n",
    "gbm = GradientBoostingRegressor(n_estimators=4000,alpha=0.01); ### Test 0.41\n",
    "\n",
    "targetsLog = np.log1p(target)\n",
    "\n",
    "gbm.fit(train_dummy,targetsLog)\n",
    "\n",
    "preds = gbm.predict(X= train_dummy)\n",
    "print (\"RMSLE Value For Gradient Boost: \",rmsle(np.exp(targetsLog),np.exp(preds),False))"
   ]
  },
  {
   "cell_type": "markdown",
   "metadata": {},
   "source": [
    "# Feature selection"
   ]
  },
  {
   "cell_type": "code",
   "execution_count": null,
   "metadata": {},
   "outputs": [],
   "source": [
    "features = list(pd.concat((pd.DataFrame(train_dummy.columns, columns = ['variable']), \n",
    "           pd.DataFrame(gbm.feature_importances_, columns = ['importance'])), \n",
    "          axis = 1).sort_values(by='importance', ascending = False)[:21][\"variable\"])"
   ]
  },
  {
   "cell_type": "markdown",
   "metadata": {},
   "source": [
    "# Hyperparameters"
   ]
  },
  {
   "cell_type": "code",
   "execution_count": 350,
   "metadata": {
    "ExecuteTime": {
     "end_time": "2020-07-03T10:16:09.232967Z",
     "start_time": "2020-07-03T10:16:09.223991Z"
    }
   },
   "outputs": [],
   "source": [
    "param_grid={'n_estimators':[1000], \n",
    "            'learning_rate': [0.1,0.05],\n",
    "            'max_depth':[None],\n",
    "            'min_samples_leaf':[1,2],\n",
    "            'max_features':['auto']}"
   ]
  },
  {
   "cell_type": "code",
   "execution_count": 351,
   "metadata": {
    "ExecuteTime": {
     "end_time": "2020-07-03T10:30:14.260618Z",
     "start_time": "2020-07-03T10:16:10.643388Z"
    }
   },
   "outputs": [
    {
     "ename": "KeyboardInterrupt",
     "evalue": "",
     "output_type": "error",
     "traceback": [
      "\u001b[1;31m---------------------------------------------------------------------------\u001b[0m",
      "\u001b[1;31mKeyboardInterrupt\u001b[0m                         Traceback (most recent call last)",
      "\u001b[1;32m<ipython-input-351-884100702bec>\u001b[0m in \u001b[0;36m<module>\u001b[1;34m\u001b[0m\n\u001b[0;32m      3\u001b[0m gsearch3 = GridSearchCV(estimator = GradientBoostingRegressor(alpha=0.01,random_state=10), \n\u001b[0;32m      4\u001b[0m param_grid = param_grid, scoring='neg_mean_absolute_error',n_jobs=4,iid=False, cv=5)\n\u001b[1;32m----> 5\u001b[1;33m \u001b[0mgsearch3\u001b[0m\u001b[1;33m.\u001b[0m\u001b[0mfit\u001b[0m\u001b[1;33m(\u001b[0m\u001b[0mtrain_dummy\u001b[0m\u001b[1;33m,\u001b[0m\u001b[0mtargetsLog\u001b[0m\u001b[1;33m)\u001b[0m\u001b[1;33m\u001b[0m\u001b[1;33m\u001b[0m\u001b[0m\n\u001b[0m\u001b[0;32m      6\u001b[0m \u001b[0mgsearch3\u001b[0m\u001b[1;33m.\u001b[0m\u001b[0mgrid_scores_\u001b[0m\u001b[1;33m,\u001b[0m \u001b[0mgsearch3\u001b[0m\u001b[1;33m.\u001b[0m\u001b[0mbest_params_\u001b[0m\u001b[1;33m,\u001b[0m \u001b[0mgsearch3\u001b[0m\u001b[1;33m.\u001b[0m\u001b[0mbest_score_\u001b[0m\u001b[1;33m\u001b[0m\u001b[1;33m\u001b[0m\u001b[0m\n",
      "\u001b[1;32m~\\AppData\\Roaming\\Python\\Python37\\site-packages\\sklearn\\utils\\validation.py\u001b[0m in \u001b[0;36minner_f\u001b[1;34m(*args, **kwargs)\u001b[0m\n\u001b[0;32m     71\u001b[0m                           FutureWarning)\n\u001b[0;32m     72\u001b[0m         \u001b[0mkwargs\u001b[0m\u001b[1;33m.\u001b[0m\u001b[0mupdate\u001b[0m\u001b[1;33m(\u001b[0m\u001b[1;33m{\u001b[0m\u001b[0mk\u001b[0m\u001b[1;33m:\u001b[0m \u001b[0marg\u001b[0m \u001b[1;32mfor\u001b[0m \u001b[0mk\u001b[0m\u001b[1;33m,\u001b[0m \u001b[0marg\u001b[0m \u001b[1;32min\u001b[0m \u001b[0mzip\u001b[0m\u001b[1;33m(\u001b[0m\u001b[0msig\u001b[0m\u001b[1;33m.\u001b[0m\u001b[0mparameters\u001b[0m\u001b[1;33m,\u001b[0m \u001b[0margs\u001b[0m\u001b[1;33m)\u001b[0m\u001b[1;33m}\u001b[0m\u001b[1;33m)\u001b[0m\u001b[1;33m\u001b[0m\u001b[1;33m\u001b[0m\u001b[0m\n\u001b[1;32m---> 73\u001b[1;33m         \u001b[1;32mreturn\u001b[0m \u001b[0mf\u001b[0m\u001b[1;33m(\u001b[0m\u001b[1;33m**\u001b[0m\u001b[0mkwargs\u001b[0m\u001b[1;33m)\u001b[0m\u001b[1;33m\u001b[0m\u001b[1;33m\u001b[0m\u001b[0m\n\u001b[0m\u001b[0;32m     74\u001b[0m     \u001b[1;32mreturn\u001b[0m \u001b[0minner_f\u001b[0m\u001b[1;33m\u001b[0m\u001b[1;33m\u001b[0m\u001b[0m\n\u001b[0;32m     75\u001b[0m \u001b[1;33m\u001b[0m\u001b[0m\n",
      "\u001b[1;32m~\\AppData\\Roaming\\Python\\Python37\\site-packages\\sklearn\\model_selection\\_search.py\u001b[0m in \u001b[0;36mfit\u001b[1;34m(self, X, y, groups, **fit_params)\u001b[0m\n\u001b[0;32m    734\u001b[0m                 \u001b[1;32mreturn\u001b[0m \u001b[0mresults\u001b[0m\u001b[1;33m\u001b[0m\u001b[1;33m\u001b[0m\u001b[0m\n\u001b[0;32m    735\u001b[0m \u001b[1;33m\u001b[0m\u001b[0m\n\u001b[1;32m--> 736\u001b[1;33m             \u001b[0mself\u001b[0m\u001b[1;33m.\u001b[0m\u001b[0m_run_search\u001b[0m\u001b[1;33m(\u001b[0m\u001b[0mevaluate_candidates\u001b[0m\u001b[1;33m)\u001b[0m\u001b[1;33m\u001b[0m\u001b[1;33m\u001b[0m\u001b[0m\n\u001b[0m\u001b[0;32m    737\u001b[0m \u001b[1;33m\u001b[0m\u001b[0m\n\u001b[0;32m    738\u001b[0m         \u001b[1;31m# For multi-metric evaluation, store the best_index_, best_params_ and\u001b[0m\u001b[1;33m\u001b[0m\u001b[1;33m\u001b[0m\u001b[1;33m\u001b[0m\u001b[0m\n",
      "\u001b[1;32m~\\AppData\\Roaming\\Python\\Python37\\site-packages\\sklearn\\model_selection\\_search.py\u001b[0m in \u001b[0;36m_run_search\u001b[1;34m(self, evaluate_candidates)\u001b[0m\n\u001b[0;32m   1186\u001b[0m     \u001b[1;32mdef\u001b[0m \u001b[0m_run_search\u001b[0m\u001b[1;33m(\u001b[0m\u001b[0mself\u001b[0m\u001b[1;33m,\u001b[0m \u001b[0mevaluate_candidates\u001b[0m\u001b[1;33m)\u001b[0m\u001b[1;33m:\u001b[0m\u001b[1;33m\u001b[0m\u001b[1;33m\u001b[0m\u001b[0m\n\u001b[0;32m   1187\u001b[0m         \u001b[1;34m\"\"\"Search all candidates in param_grid\"\"\"\u001b[0m\u001b[1;33m\u001b[0m\u001b[1;33m\u001b[0m\u001b[0m\n\u001b[1;32m-> 1188\u001b[1;33m         \u001b[0mevaluate_candidates\u001b[0m\u001b[1;33m(\u001b[0m\u001b[0mParameterGrid\u001b[0m\u001b[1;33m(\u001b[0m\u001b[0mself\u001b[0m\u001b[1;33m.\u001b[0m\u001b[0mparam_grid\u001b[0m\u001b[1;33m)\u001b[0m\u001b[1;33m)\u001b[0m\u001b[1;33m\u001b[0m\u001b[1;33m\u001b[0m\u001b[0m\n\u001b[0m\u001b[0;32m   1189\u001b[0m \u001b[1;33m\u001b[0m\u001b[0m\n\u001b[0;32m   1190\u001b[0m \u001b[1;33m\u001b[0m\u001b[0m\n",
      "\u001b[1;32m~\\AppData\\Roaming\\Python\\Python37\\site-packages\\sklearn\\model_selection\\_search.py\u001b[0m in \u001b[0;36mevaluate_candidates\u001b[1;34m(candidate_params)\u001b[0m\n\u001b[0;32m    713\u001b[0m                                \u001b[1;32mfor\u001b[0m \u001b[0mparameters\u001b[0m\u001b[1;33m,\u001b[0m \u001b[1;33m(\u001b[0m\u001b[0mtrain\u001b[0m\u001b[1;33m,\u001b[0m \u001b[0mtest\u001b[0m\u001b[1;33m)\u001b[0m\u001b[1;33m\u001b[0m\u001b[1;33m\u001b[0m\u001b[0m\n\u001b[0;32m    714\u001b[0m                                in product(candidate_params,\n\u001b[1;32m--> 715\u001b[1;33m                                           cv.split(X, y, groups)))\n\u001b[0m\u001b[0;32m    716\u001b[0m \u001b[1;33m\u001b[0m\u001b[0m\n\u001b[0;32m    717\u001b[0m                 \u001b[1;32mif\u001b[0m \u001b[0mlen\u001b[0m\u001b[1;33m(\u001b[0m\u001b[0mout\u001b[0m\u001b[1;33m)\u001b[0m \u001b[1;33m<\u001b[0m \u001b[1;36m1\u001b[0m\u001b[1;33m:\u001b[0m\u001b[1;33m\u001b[0m\u001b[1;33m\u001b[0m\u001b[0m\n",
      "\u001b[1;32m~\\Anaconda3\\lib\\site-packages\\joblib\\parallel.py\u001b[0m in \u001b[0;36m__call__\u001b[1;34m(self, iterable)\u001b[0m\n\u001b[0;32m   1015\u001b[0m \u001b[1;33m\u001b[0m\u001b[0m\n\u001b[0;32m   1016\u001b[0m             \u001b[1;32mwith\u001b[0m \u001b[0mself\u001b[0m\u001b[1;33m.\u001b[0m\u001b[0m_backend\u001b[0m\u001b[1;33m.\u001b[0m\u001b[0mretrieval_context\u001b[0m\u001b[1;33m(\u001b[0m\u001b[1;33m)\u001b[0m\u001b[1;33m:\u001b[0m\u001b[1;33m\u001b[0m\u001b[1;33m\u001b[0m\u001b[0m\n\u001b[1;32m-> 1017\u001b[1;33m                 \u001b[0mself\u001b[0m\u001b[1;33m.\u001b[0m\u001b[0mretrieve\u001b[0m\u001b[1;33m(\u001b[0m\u001b[1;33m)\u001b[0m\u001b[1;33m\u001b[0m\u001b[1;33m\u001b[0m\u001b[0m\n\u001b[0m\u001b[0;32m   1018\u001b[0m             \u001b[1;31m# Make sure that we get a last message telling us we are done\u001b[0m\u001b[1;33m\u001b[0m\u001b[1;33m\u001b[0m\u001b[1;33m\u001b[0m\u001b[0m\n\u001b[0;32m   1019\u001b[0m             \u001b[0melapsed_time\u001b[0m \u001b[1;33m=\u001b[0m \u001b[0mtime\u001b[0m\u001b[1;33m.\u001b[0m\u001b[0mtime\u001b[0m\u001b[1;33m(\u001b[0m\u001b[1;33m)\u001b[0m \u001b[1;33m-\u001b[0m \u001b[0mself\u001b[0m\u001b[1;33m.\u001b[0m\u001b[0m_start_time\u001b[0m\u001b[1;33m\u001b[0m\u001b[1;33m\u001b[0m\u001b[0m\n",
      "\u001b[1;32m~\\Anaconda3\\lib\\site-packages\\joblib\\parallel.py\u001b[0m in \u001b[0;36mretrieve\u001b[1;34m(self)\u001b[0m\n\u001b[0;32m    907\u001b[0m             \u001b[1;32mtry\u001b[0m\u001b[1;33m:\u001b[0m\u001b[1;33m\u001b[0m\u001b[1;33m\u001b[0m\u001b[0m\n\u001b[0;32m    908\u001b[0m                 \u001b[1;32mif\u001b[0m \u001b[0mgetattr\u001b[0m\u001b[1;33m(\u001b[0m\u001b[0mself\u001b[0m\u001b[1;33m.\u001b[0m\u001b[0m_backend\u001b[0m\u001b[1;33m,\u001b[0m \u001b[1;34m'supports_timeout'\u001b[0m\u001b[1;33m,\u001b[0m \u001b[1;32mFalse\u001b[0m\u001b[1;33m)\u001b[0m\u001b[1;33m:\u001b[0m\u001b[1;33m\u001b[0m\u001b[1;33m\u001b[0m\u001b[0m\n\u001b[1;32m--> 909\u001b[1;33m                     \u001b[0mself\u001b[0m\u001b[1;33m.\u001b[0m\u001b[0m_output\u001b[0m\u001b[1;33m.\u001b[0m\u001b[0mextend\u001b[0m\u001b[1;33m(\u001b[0m\u001b[0mjob\u001b[0m\u001b[1;33m.\u001b[0m\u001b[0mget\u001b[0m\u001b[1;33m(\u001b[0m\u001b[0mtimeout\u001b[0m\u001b[1;33m=\u001b[0m\u001b[0mself\u001b[0m\u001b[1;33m.\u001b[0m\u001b[0mtimeout\u001b[0m\u001b[1;33m)\u001b[0m\u001b[1;33m)\u001b[0m\u001b[1;33m\u001b[0m\u001b[1;33m\u001b[0m\u001b[0m\n\u001b[0m\u001b[0;32m    910\u001b[0m                 \u001b[1;32melse\u001b[0m\u001b[1;33m:\u001b[0m\u001b[1;33m\u001b[0m\u001b[1;33m\u001b[0m\u001b[0m\n\u001b[0;32m    911\u001b[0m                     \u001b[0mself\u001b[0m\u001b[1;33m.\u001b[0m\u001b[0m_output\u001b[0m\u001b[1;33m.\u001b[0m\u001b[0mextend\u001b[0m\u001b[1;33m(\u001b[0m\u001b[0mjob\u001b[0m\u001b[1;33m.\u001b[0m\u001b[0mget\u001b[0m\u001b[1;33m(\u001b[0m\u001b[1;33m)\u001b[0m\u001b[1;33m)\u001b[0m\u001b[1;33m\u001b[0m\u001b[1;33m\u001b[0m\u001b[0m\n",
      "\u001b[1;32m~\\Anaconda3\\lib\\site-packages\\joblib\\_parallel_backends.py\u001b[0m in \u001b[0;36mwrap_future_result\u001b[1;34m(future, timeout)\u001b[0m\n\u001b[0;32m    560\u001b[0m         AsyncResults.get from multiprocessing.\"\"\"\n\u001b[0;32m    561\u001b[0m         \u001b[1;32mtry\u001b[0m\u001b[1;33m:\u001b[0m\u001b[1;33m\u001b[0m\u001b[1;33m\u001b[0m\u001b[0m\n\u001b[1;32m--> 562\u001b[1;33m             \u001b[1;32mreturn\u001b[0m \u001b[0mfuture\u001b[0m\u001b[1;33m.\u001b[0m\u001b[0mresult\u001b[0m\u001b[1;33m(\u001b[0m\u001b[0mtimeout\u001b[0m\u001b[1;33m=\u001b[0m\u001b[0mtimeout\u001b[0m\u001b[1;33m)\u001b[0m\u001b[1;33m\u001b[0m\u001b[1;33m\u001b[0m\u001b[0m\n\u001b[0m\u001b[0;32m    563\u001b[0m         \u001b[1;32mexcept\u001b[0m \u001b[0mLokyTimeoutError\u001b[0m\u001b[1;33m:\u001b[0m\u001b[1;33m\u001b[0m\u001b[1;33m\u001b[0m\u001b[0m\n\u001b[0;32m    564\u001b[0m             \u001b[1;32mraise\u001b[0m \u001b[0mTimeoutError\u001b[0m\u001b[1;33m(\u001b[0m\u001b[1;33m)\u001b[0m\u001b[1;33m\u001b[0m\u001b[1;33m\u001b[0m\u001b[0m\n",
      "\u001b[1;32m~\\Anaconda3\\lib\\concurrent\\futures\\_base.py\u001b[0m in \u001b[0;36mresult\u001b[1;34m(self, timeout)\u001b[0m\n\u001b[0;32m    428\u001b[0m                 \u001b[1;32mreturn\u001b[0m \u001b[0mself\u001b[0m\u001b[1;33m.\u001b[0m\u001b[0m__get_result\u001b[0m\u001b[1;33m(\u001b[0m\u001b[1;33m)\u001b[0m\u001b[1;33m\u001b[0m\u001b[1;33m\u001b[0m\u001b[0m\n\u001b[0;32m    429\u001b[0m \u001b[1;33m\u001b[0m\u001b[0m\n\u001b[1;32m--> 430\u001b[1;33m             \u001b[0mself\u001b[0m\u001b[1;33m.\u001b[0m\u001b[0m_condition\u001b[0m\u001b[1;33m.\u001b[0m\u001b[0mwait\u001b[0m\u001b[1;33m(\u001b[0m\u001b[0mtimeout\u001b[0m\u001b[1;33m)\u001b[0m\u001b[1;33m\u001b[0m\u001b[1;33m\u001b[0m\u001b[0m\n\u001b[0m\u001b[0;32m    431\u001b[0m \u001b[1;33m\u001b[0m\u001b[0m\n\u001b[0;32m    432\u001b[0m             \u001b[1;32mif\u001b[0m \u001b[0mself\u001b[0m\u001b[1;33m.\u001b[0m\u001b[0m_state\u001b[0m \u001b[1;32min\u001b[0m \u001b[1;33m[\u001b[0m\u001b[0mCANCELLED\u001b[0m\u001b[1;33m,\u001b[0m \u001b[0mCANCELLED_AND_NOTIFIED\u001b[0m\u001b[1;33m]\u001b[0m\u001b[1;33m:\u001b[0m\u001b[1;33m\u001b[0m\u001b[1;33m\u001b[0m\u001b[0m\n",
      "\u001b[1;32m~\\Anaconda3\\lib\\threading.py\u001b[0m in \u001b[0;36mwait\u001b[1;34m(self, timeout)\u001b[0m\n\u001b[0;32m    294\u001b[0m         \u001b[1;32mtry\u001b[0m\u001b[1;33m:\u001b[0m    \u001b[1;31m# restore state no matter what (e.g., KeyboardInterrupt)\u001b[0m\u001b[1;33m\u001b[0m\u001b[1;33m\u001b[0m\u001b[0m\n\u001b[0;32m    295\u001b[0m             \u001b[1;32mif\u001b[0m \u001b[0mtimeout\u001b[0m \u001b[1;32mis\u001b[0m \u001b[1;32mNone\u001b[0m\u001b[1;33m:\u001b[0m\u001b[1;33m\u001b[0m\u001b[1;33m\u001b[0m\u001b[0m\n\u001b[1;32m--> 296\u001b[1;33m                 \u001b[0mwaiter\u001b[0m\u001b[1;33m.\u001b[0m\u001b[0macquire\u001b[0m\u001b[1;33m(\u001b[0m\u001b[1;33m)\u001b[0m\u001b[1;33m\u001b[0m\u001b[1;33m\u001b[0m\u001b[0m\n\u001b[0m\u001b[0;32m    297\u001b[0m                 \u001b[0mgotit\u001b[0m \u001b[1;33m=\u001b[0m \u001b[1;32mTrue\u001b[0m\u001b[1;33m\u001b[0m\u001b[1;33m\u001b[0m\u001b[0m\n\u001b[0;32m    298\u001b[0m             \u001b[1;32melse\u001b[0m\u001b[1;33m:\u001b[0m\u001b[1;33m\u001b[0m\u001b[1;33m\u001b[0m\u001b[0m\n",
      "\u001b[1;31mKeyboardInterrupt\u001b[0m: "
     ]
    }
   ],
   "source": [
    " from sklearn.model_selection import GridSearchCV\n",
    "\n",
    "gsearch3 = GridSearchCV(estimator = GradientBoostingRegressor(alpha=0.01,random_state=10), \n",
    "param_grid = param_grid, scoring='neg_mean_absolute_error',n_jobs=4,iid=False, cv=5)\n",
    "gsearch3.fit(train_dummy,targetsLog)\n",
    "gsearch3.grid_scores_, gsearch3.best_params_, gsearch3.best_score_"
   ]
  },
  {
   "cell_type": "markdown",
   "metadata": {},
   "source": [
    "# Submission"
   ]
  },
  {
   "cell_type": "code",
   "execution_count": 371,
   "metadata": {
    "ExecuteTime": {
     "end_time": "2020-07-03T10:35:11.840121Z",
     "start_time": "2020-07-03T10:35:11.771322Z"
    }
   },
   "outputs": [],
   "source": [
    "predsTestRF = rfModel.predict(X= test_dummy)\n",
    "#predsTestLGB = lgbm.predict(test_dummy, num_iteration=lgbm.best_iteration_)\n",
    "predsTestXGB = gbm.predict(X= test_dummy)"
   ]
  },
  {
   "cell_type": "code",
   "execution_count": 372,
   "metadata": {
    "ExecuteTime": {
     "end_time": "2020-07-03T10:35:16.980570Z",
     "start_time": "2020-07-03T10:35:16.975612Z"
    }
   },
   "outputs": [],
   "source": [
    "sample_submission[\"countRents\"] = [max(0, x) for x in np.exp(predsTestXGB)]"
   ]
  },
  {
   "cell_type": "code",
   "execution_count": 373,
   "metadata": {
    "ExecuteTime": {
     "end_time": "2020-07-03T10:35:19.848665Z",
     "start_time": "2020-07-03T10:35:19.839689Z"
    }
   },
   "outputs": [],
   "source": [
    "\n",
    "sample_submission.to_csv('submission8.csv', index=False)"
   ]
  },
  {
   "cell_type": "code",
   "execution_count": null,
   "metadata": {},
   "outputs": [],
   "source": []
  }
 ],
 "metadata": {
  "hide_input": false,
  "kernelspec": {
   "display_name": "Python 3",
   "language": "python",
   "name": "python3"
  },
  "language_info": {
   "codemirror_mode": {
    "name": "ipython",
    "version": 3
   },
   "file_extension": ".py",
   "mimetype": "text/x-python",
   "name": "python",
   "nbconvert_exporter": "python",
   "pygments_lexer": "ipython3",
   "version": "3.7.4"
  },
  "toc": {
   "base_numbering": 1,
   "nav_menu": {},
   "number_sections": true,
   "sideBar": true,
   "skip_h1_title": false,
   "title_cell": "Table of Contents",
   "title_sidebar": "Contents",
   "toc_cell": false,
   "toc_position": {},
   "toc_section_display": true,
   "toc_window_display": false
  },
  "varInspector": {
   "cols": {
    "lenName": 16,
    "lenType": 16,
    "lenVar": 40
   },
   "kernels_config": {
    "python": {
     "delete_cmd_postfix": "",
     "delete_cmd_prefix": "del ",
     "library": "var_list.py",
     "varRefreshCmd": "print(var_dic_list())"
    },
    "r": {
     "delete_cmd_postfix": ") ",
     "delete_cmd_prefix": "rm(",
     "library": "var_list.r",
     "varRefreshCmd": "cat(var_dic_list()) "
    }
   },
   "types_to_exclude": [
    "module",
    "function",
    "builtin_function_or_method",
    "instance",
    "_Feature"
   ],
   "window_display": false
  }
 },
 "nbformat": 4,
 "nbformat_minor": 2
}
